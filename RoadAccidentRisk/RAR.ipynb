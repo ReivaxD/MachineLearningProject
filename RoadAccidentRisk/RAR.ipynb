{
 "cells": [
  {
   "cell_type": "markdown",
   "id": "e83ee86d",
   "metadata": {},
   "source": [
    "# Road Accident Risk"
   ]
  },
  {
   "cell_type": "markdown",
   "id": "2682c714",
   "metadata": {},
   "source": [
    "## Initialisation"
   ]
  },
  {
   "cell_type": "code",
   "execution_count": 196,
   "id": "9befacb0",
   "metadata": {},
   "outputs": [],
   "source": [
    "import pandas as pd\n",
    "import numpy as np\n",
    "import seaborn as sns\n",
    "import matplotlib.pyplot as plt\n",
    "\n",
    "from sklearn.pipeline import Pipeline\n",
    "from sklearn.linear_model import LinearRegression\n",
    "from sklearn.preprocessing import StandardScaler\n",
    "from sklearn.neighbors import KNeighborsRegressor\n",
    "from sklearn.ensemble import GradientBoostingRegressor, StackingRegressor\n",
    "from sklearn.linear_model import LassoCV, RidgeCV\n",
    "from sklearn.model_selection import train_test_split\n",
    "from sklearn.model_selection import RandomizedSearchCV\n",
    "from sklearn.metrics import mean_squared_error\n",
    "from sklearn.model_selection import KFold\n",
    "from lightgbm import LGBMRegressor\n",
    "from catboost import CatBoostRegressor\n",
    "from xgboost import XGBRegressor\n",
    "from sklearn.ensemble import RandomForestRegressor\n",
    "from sklearn.ensemble import BaggingRegressor"
   ]
  },
  {
   "cell_type": "markdown",
   "id": "8c7c20a9",
   "metadata": {},
   "source": [
    "### Code parameters"
   ]
  },
  {
   "cell_type": "code",
   "execution_count": 197,
   "id": "db6ccf74",
   "metadata": {},
   "outputs": [],
   "source": [
    "# Compute RMSE of the model (take few min)\n",
    "CheckRMSE = False\n",
    "# Save Submition in the output file\n",
    "save = True\n",
    "# Save plot\n",
    "saveplot = False"
   ]
  },
  {
   "cell_type": "markdown",
   "id": "3019864b",
   "metadata": {},
   "source": [
    "### Path"
   ]
  },
  {
   "cell_type": "code",
   "execution_count": 198,
   "id": "22939b46",
   "metadata": {},
   "outputs": [],
   "source": [
    "data_folder = 'resources/'\n",
    "output_folder = 'output/'\n",
    "plots_folder = 'output/plots/'"
   ]
  },
  {
   "cell_type": "markdown",
   "id": "f986dced",
   "metadata": {},
   "source": [
    "## Train Data loading"
   ]
  },
  {
   "cell_type": "code",
   "execution_count": 199,
   "id": "5091bcd2",
   "metadata": {},
   "outputs": [
    {
     "data": {
      "text/html": [
       "<div>\n",
       "<style scoped>\n",
       "    .dataframe tbody tr th:only-of-type {\n",
       "        vertical-align: middle;\n",
       "    }\n",
       "\n",
       "    .dataframe tbody tr th {\n",
       "        vertical-align: top;\n",
       "    }\n",
       "\n",
       "    .dataframe thead th {\n",
       "        text-align: right;\n",
       "    }\n",
       "</style>\n",
       "<table border=\"1\" class=\"dataframe\">\n",
       "  <thead>\n",
       "    <tr style=\"text-align: right;\">\n",
       "      <th></th>\n",
       "      <th>id</th>\n",
       "      <th>road_type</th>\n",
       "      <th>num_lanes</th>\n",
       "      <th>curvature</th>\n",
       "      <th>speed_limit</th>\n",
       "      <th>lighting</th>\n",
       "      <th>weather</th>\n",
       "      <th>road_signs_present</th>\n",
       "      <th>public_road</th>\n",
       "      <th>time_of_day</th>\n",
       "      <th>holiday</th>\n",
       "      <th>school_season</th>\n",
       "      <th>num_reported_accidents</th>\n",
       "      <th>accident_risk</th>\n",
       "    </tr>\n",
       "  </thead>\n",
       "  <tbody>\n",
       "    <tr>\n",
       "      <th>0</th>\n",
       "      <td>0</td>\n",
       "      <td>urban</td>\n",
       "      <td>2</td>\n",
       "      <td>0.06</td>\n",
       "      <td>35</td>\n",
       "      <td>daylight</td>\n",
       "      <td>rainy</td>\n",
       "      <td>False</td>\n",
       "      <td>True</td>\n",
       "      <td>afternoon</td>\n",
       "      <td>False</td>\n",
       "      <td>True</td>\n",
       "      <td>1</td>\n",
       "      <td>0.13</td>\n",
       "    </tr>\n",
       "    <tr>\n",
       "      <th>1</th>\n",
       "      <td>1</td>\n",
       "      <td>urban</td>\n",
       "      <td>4</td>\n",
       "      <td>0.99</td>\n",
       "      <td>35</td>\n",
       "      <td>daylight</td>\n",
       "      <td>clear</td>\n",
       "      <td>True</td>\n",
       "      <td>False</td>\n",
       "      <td>evening</td>\n",
       "      <td>True</td>\n",
       "      <td>True</td>\n",
       "      <td>0</td>\n",
       "      <td>0.35</td>\n",
       "    </tr>\n",
       "    <tr>\n",
       "      <th>2</th>\n",
       "      <td>2</td>\n",
       "      <td>rural</td>\n",
       "      <td>4</td>\n",
       "      <td>0.63</td>\n",
       "      <td>70</td>\n",
       "      <td>dim</td>\n",
       "      <td>clear</td>\n",
       "      <td>False</td>\n",
       "      <td>True</td>\n",
       "      <td>morning</td>\n",
       "      <td>True</td>\n",
       "      <td>False</td>\n",
       "      <td>2</td>\n",
       "      <td>0.30</td>\n",
       "    </tr>\n",
       "    <tr>\n",
       "      <th>3</th>\n",
       "      <td>3</td>\n",
       "      <td>highway</td>\n",
       "      <td>4</td>\n",
       "      <td>0.07</td>\n",
       "      <td>35</td>\n",
       "      <td>dim</td>\n",
       "      <td>rainy</td>\n",
       "      <td>True</td>\n",
       "      <td>True</td>\n",
       "      <td>morning</td>\n",
       "      <td>False</td>\n",
       "      <td>False</td>\n",
       "      <td>1</td>\n",
       "      <td>0.21</td>\n",
       "    </tr>\n",
       "    <tr>\n",
       "      <th>4</th>\n",
       "      <td>4</td>\n",
       "      <td>rural</td>\n",
       "      <td>1</td>\n",
       "      <td>0.58</td>\n",
       "      <td>60</td>\n",
       "      <td>daylight</td>\n",
       "      <td>foggy</td>\n",
       "      <td>False</td>\n",
       "      <td>False</td>\n",
       "      <td>evening</td>\n",
       "      <td>True</td>\n",
       "      <td>False</td>\n",
       "      <td>1</td>\n",
       "      <td>0.56</td>\n",
       "    </tr>\n",
       "  </tbody>\n",
       "</table>\n",
       "</div>"
      ],
      "text/plain": [
       "   id road_type  num_lanes  curvature  speed_limit  lighting weather  \\\n",
       "0   0     urban          2       0.06           35  daylight   rainy   \n",
       "1   1     urban          4       0.99           35  daylight   clear   \n",
       "2   2     rural          4       0.63           70       dim   clear   \n",
       "3   3   highway          4       0.07           35       dim   rainy   \n",
       "4   4     rural          1       0.58           60  daylight   foggy   \n",
       "\n",
       "   road_signs_present  public_road time_of_day  holiday  school_season  \\\n",
       "0               False         True   afternoon    False           True   \n",
       "1                True        False     evening     True           True   \n",
       "2               False         True     morning     True          False   \n",
       "3                True         True     morning    False          False   \n",
       "4               False        False     evening     True          False   \n",
       "\n",
       "   num_reported_accidents  accident_risk  \n",
       "0                       1           0.13  \n",
       "1                       0           0.35  \n",
       "2                       2           0.30  \n",
       "3                       1           0.21  \n",
       "4                       1           0.56  "
      ]
     },
     "execution_count": 199,
     "metadata": {},
     "output_type": "execute_result"
    }
   ],
   "source": [
    "train = pd.read_csv(data_folder + \"train.csv\")\n",
    "X_train = pd.DataFrame(train.drop([\"accident_risk\", \"id\"], axis=1))\n",
    "train.head(5)"
   ]
  },
  {
   "cell_type": "code",
   "execution_count": 200,
   "id": "970ff826",
   "metadata": {},
   "outputs": [
    {
     "data": {
      "text/html": [
       "<div>\n",
       "<style scoped>\n",
       "    .dataframe tbody tr th:only-of-type {\n",
       "        vertical-align: middle;\n",
       "    }\n",
       "\n",
       "    .dataframe tbody tr th {\n",
       "        vertical-align: top;\n",
       "    }\n",
       "\n",
       "    .dataframe thead th {\n",
       "        text-align: right;\n",
       "    }\n",
       "</style>\n",
       "<table border=\"1\" class=\"dataframe\">\n",
       "  <thead>\n",
       "    <tr style=\"text-align: right;\">\n",
       "      <th></th>\n",
       "      <th>accident_risk</th>\n",
       "    </tr>\n",
       "  </thead>\n",
       "  <tbody>\n",
       "    <tr>\n",
       "      <th>0</th>\n",
       "      <td>0.13</td>\n",
       "    </tr>\n",
       "    <tr>\n",
       "      <th>1</th>\n",
       "      <td>0.35</td>\n",
       "    </tr>\n",
       "    <tr>\n",
       "      <th>2</th>\n",
       "      <td>0.30</td>\n",
       "    </tr>\n",
       "    <tr>\n",
       "      <th>3</th>\n",
       "      <td>0.21</td>\n",
       "    </tr>\n",
       "    <tr>\n",
       "      <th>4</th>\n",
       "      <td>0.56</td>\n",
       "    </tr>\n",
       "  </tbody>\n",
       "</table>\n",
       "</div>"
      ],
      "text/plain": [
       "   accident_risk\n",
       "0           0.13\n",
       "1           0.35\n",
       "2           0.30\n",
       "3           0.21\n",
       "4           0.56"
      ]
     },
     "execution_count": 200,
     "metadata": {},
     "output_type": "execute_result"
    }
   ],
   "source": [
    "y_train = pd.DataFrame(train[\"accident_risk\"].copy())\n",
    "\n",
    "y_train.head(5)"
   ]
  },
  {
   "cell_type": "code",
   "execution_count": 201,
   "id": "0d0b60f6",
   "metadata": {},
   "outputs": [
    {
     "data": {
      "text/plain": [
       "road_type                  object\n",
       "num_lanes                   int64\n",
       "curvature                 float64\n",
       "speed_limit                 int64\n",
       "lighting                   object\n",
       "weather                    object\n",
       "road_signs_present           bool\n",
       "public_road                  bool\n",
       "time_of_day                object\n",
       "holiday                      bool\n",
       "school_season                bool\n",
       "num_reported_accidents      int64\n",
       "dtype: object"
      ]
     },
     "execution_count": 201,
     "metadata": {},
     "output_type": "execute_result"
    }
   ],
   "source": [
    "X_train.dtypes"
   ]
  },
  {
   "cell_type": "markdown",
   "id": "bc770233",
   "metadata": {},
   "source": [
    "## Data analysis"
   ]
  },
  {
   "cell_type": "code",
   "execution_count": 202,
   "id": "01f22336",
   "metadata": {},
   "outputs": [
    {
     "data": {
      "image/png": "[encoded data removed]",
      "text/plain": [
       "<Figure size 2000x1000 with 1 Axes>"
      ]
     },
     "metadata": {},
     "output_type": "display_data"
    }
   ],
   "source": [
    "\n",
    "plt.figure(figsize=(20, 10))\n",
    "sns.histplot(y_train)\n",
    "plt.title('Repartition of the target for the training set')\n",
    "if(saveplot):\n",
    "    plt.savefig(f\"{plots_folder}Histplot_Ytrain.png\")"
   ]
  },
  {
   "cell_type": "markdown",
   "id": "3b369b36",
   "metadata": {},
   "source": [
    "## Train Preprocessing"
   ]
  },
  {
   "cell_type": "markdown",
   "id": "7ed975f8",
   "metadata": {},
   "source": [
    "### Missing values"
   ]
  },
  {
   "cell_type": "code",
   "execution_count": 203,
   "id": "a8458c6d",
   "metadata": {},
   "outputs": [
    {
     "data": {
      "text/plain": [
       "road_type                 0\n",
       "num_lanes                 0\n",
       "curvature                 0\n",
       "speed_limit               0\n",
       "lighting                  0\n",
       "weather                   0\n",
       "road_signs_present        0\n",
       "public_road               0\n",
       "time_of_day               0\n",
       "holiday                   0\n",
       "school_season             0\n",
       "num_reported_accidents    0\n",
       "dtype: int64"
      ]
     },
     "execution_count": 203,
     "metadata": {},
     "output_type": "execute_result"
    }
   ],
   "source": [
    "X_train.isna().sum()"
   ]
  },
  {
   "cell_type": "markdown",
   "id": "ad7852df",
   "metadata": {},
   "source": [
    "### Bool type processing"
   ]
  },
  {
   "cell_type": "markdown",
   "id": "7a760fe8",
   "metadata": {},
   "source": [
    "Bool data can be easily interpreted by integer (0 = False and 1 = True)"
   ]
  },
  {
   "cell_type": "code",
   "execution_count": 204,
   "id": "df7cb488",
   "metadata": {},
   "outputs": [
    {
     "data": {
      "text/plain": [
       "road_type                  object\n",
       "num_lanes                   int64\n",
       "curvature                 float64\n",
       "speed_limit                 int64\n",
       "lighting                   object\n",
       "weather                    object\n",
       "road_signs_present           bool\n",
       "public_road                  bool\n",
       "time_of_day                object\n",
       "holiday                      bool\n",
       "school_season                bool\n",
       "num_reported_accidents      int64\n",
       "dtype: object"
      ]
     },
     "execution_count": 204,
     "metadata": {},
     "output_type": "execute_result"
    }
   ],
   "source": [
    "SRP = X_train[\"road_signs_present\"].astype(int)\n",
    "PR = X_train[\"public_road\"].astype(int)\n",
    "H = X_train[\"holiday\"].astype(int)\n",
    "SS = X_train[\"school_season\"].astype(int)\n",
    "\n",
    "X_train.dtypes"
   ]
  },
  {
   "cell_type": "markdown",
   "id": "f68ec49d",
   "metadata": {},
   "source": [
    "### Object type processing"
   ]
  },
  {
   "cell_type": "code",
   "execution_count": 205,
   "id": "896c2ae6",
   "metadata": {},
   "outputs": [
    {
     "data": {
      "text/plain": [
       "Index(['road_type', 'lighting', 'weather', 'time_of_day'], dtype='object')"
      ]
     },
     "execution_count": 205,
     "metadata": {},
     "output_type": "execute_result"
    }
   ],
   "source": [
    "objType = X_train.select_dtypes(include=\"object\").columns\n",
    "\n",
    "objType"
   ]
  },
  {
   "cell_type": "markdown",
   "id": "5e539d7a",
   "metadata": {},
   "source": [
    "#### road_type"
   ]
  },
  {
   "cell_type": "code",
   "execution_count": 206,
   "id": "1f5fc1a9",
   "metadata": {},
   "outputs": [
    {
     "data": {
      "text/plain": [
       "array(['urban', 'rural', 'highway'], dtype=object)"
      ]
     },
     "execution_count": 206,
     "metadata": {},
     "output_type": "execute_result"
    }
   ],
   "source": [
    "X_train['road_type'].unique()"
   ]
  },
  {
   "cell_type": "markdown",
   "id": "b8ee6286",
   "metadata": {},
   "source": [
    "Only 3 value, we can encode them with Dummies variable without adding to much colunms."
   ]
  },
  {
   "cell_type": "code",
   "execution_count": 207,
   "id": "26fe28bc",
   "metadata": {},
   "outputs": [
    {
     "name": "stdout",
     "output_type": "stream",
     "text": [
      "True\n"
     ]
    },
    {
     "data": {
      "text/html": [
       "<div>\n",
       "<style scoped>\n",
       "    .dataframe tbody tr th:only-of-type {\n",
       "        vertical-align: middle;\n",
       "    }\n",
       "\n",
       "    .dataframe tbody tr th {\n",
       "        vertical-align: top;\n",
       "    }\n",
       "\n",
       "    .dataframe thead th {\n",
       "        text-align: right;\n",
       "    }\n",
       "</style>\n",
       "<table border=\"1\" class=\"dataframe\">\n",
       "  <thead>\n",
       "    <tr style=\"text-align: right;\">\n",
       "      <th></th>\n",
       "      <th>highway</th>\n",
       "      <th>rural</th>\n",
       "      <th>urban</th>\n",
       "    </tr>\n",
       "  </thead>\n",
       "  <tbody>\n",
       "    <tr>\n",
       "      <th>0</th>\n",
       "      <td>0</td>\n",
       "      <td>0</td>\n",
       "      <td>1</td>\n",
       "    </tr>\n",
       "    <tr>\n",
       "      <th>1</th>\n",
       "      <td>0</td>\n",
       "      <td>0</td>\n",
       "      <td>1</td>\n",
       "    </tr>\n",
       "    <tr>\n",
       "      <th>2</th>\n",
       "      <td>0</td>\n",
       "      <td>1</td>\n",
       "      <td>0</td>\n",
       "    </tr>\n",
       "    <tr>\n",
       "      <th>3</th>\n",
       "      <td>1</td>\n",
       "      <td>0</td>\n",
       "      <td>0</td>\n",
       "    </tr>\n",
       "    <tr>\n",
       "      <th>4</th>\n",
       "      <td>0</td>\n",
       "      <td>1</td>\n",
       "      <td>0</td>\n",
       "    </tr>\n",
       "  </tbody>\n",
       "</table>\n",
       "</div>"
      ],
      "text/plain": [
       "   highway  rural  urban\n",
       "0        0      0      1\n",
       "1        0      0      1\n",
       "2        0      1      0\n",
       "3        1      0      0\n",
       "4        0      1      0"
      ]
     },
     "execution_count": 207,
     "metadata": {},
     "output_type": "execute_result"
    }
   ],
   "source": [
    "RTdummies = pd.get_dummies(X_train['road_type']).astype(int)\n",
    "\n",
    "print(RTdummies.shape[0] == X_train.shape[0])\n",
    "\n",
    "RTdummies.head(5)"
   ]
  },
  {
   "cell_type": "markdown",
   "id": "e1990f35",
   "metadata": {},
   "source": [
    "#### lighting"
   ]
  },
  {
   "cell_type": "code",
   "execution_count": 208,
   "id": "931f6343",
   "metadata": {},
   "outputs": [
    {
     "data": {
      "text/plain": [
       "array(['daylight', 'dim', 'night'], dtype=object)"
      ]
     },
     "execution_count": 208,
     "metadata": {},
     "output_type": "execute_result"
    }
   ],
   "source": [
    "X_train['lighting'].unique()"
   ]
  },
  {
   "cell_type": "markdown",
   "id": "97e35313",
   "metadata": {},
   "source": [
    "Same processing as 'road_type'"
   ]
  },
  {
   "cell_type": "code",
   "execution_count": 209,
   "id": "9d29f1c4",
   "metadata": {},
   "outputs": [
    {
     "name": "stdout",
     "output_type": "stream",
     "text": [
      "True\n"
     ]
    },
    {
     "data": {
      "text/html": [
       "<div>\n",
       "<style scoped>\n",
       "    .dataframe tbody tr th:only-of-type {\n",
       "        vertical-align: middle;\n",
       "    }\n",
       "\n",
       "    .dataframe tbody tr th {\n",
       "        vertical-align: top;\n",
       "    }\n",
       "\n",
       "    .dataframe thead th {\n",
       "        text-align: right;\n",
       "    }\n",
       "</style>\n",
       "<table border=\"1\" class=\"dataframe\">\n",
       "  <thead>\n",
       "    <tr style=\"text-align: right;\">\n",
       "      <th></th>\n",
       "      <th>daylight</th>\n",
       "      <th>dim</th>\n",
       "      <th>night</th>\n",
       "    </tr>\n",
       "  </thead>\n",
       "  <tbody>\n",
       "    <tr>\n",
       "      <th>0</th>\n",
       "      <td>1</td>\n",
       "      <td>0</td>\n",
       "      <td>0</td>\n",
       "    </tr>\n",
       "    <tr>\n",
       "      <th>1</th>\n",
       "      <td>1</td>\n",
       "      <td>0</td>\n",
       "      <td>0</td>\n",
       "    </tr>\n",
       "    <tr>\n",
       "      <th>2</th>\n",
       "      <td>0</td>\n",
       "      <td>1</td>\n",
       "      <td>0</td>\n",
       "    </tr>\n",
       "    <tr>\n",
       "      <th>3</th>\n",
       "      <td>0</td>\n",
       "      <td>1</td>\n",
       "      <td>0</td>\n",
       "    </tr>\n",
       "    <tr>\n",
       "      <th>4</th>\n",
       "      <td>1</td>\n",
       "      <td>0</td>\n",
       "      <td>0</td>\n",
       "    </tr>\n",
       "  </tbody>\n",
       "</table>\n",
       "</div>"
      ],
      "text/plain": [
       "   daylight  dim  night\n",
       "0         1    0      0\n",
       "1         1    0      0\n",
       "2         0    1      0\n",
       "3         0    1      0\n",
       "4         1    0      0"
      ]
     },
     "execution_count": 209,
     "metadata": {},
     "output_type": "execute_result"
    }
   ],
   "source": [
    "Ldummies = pd.get_dummies(X_train['lighting']).astype(int)\n",
    "\n",
    "print(Ldummies.shape[0] == X_train.shape[0])\n",
    "\n",
    "Ldummies.head(5)"
   ]
  },
  {
   "cell_type": "markdown",
   "id": "b7293954",
   "metadata": {},
   "source": [
    "#### weather"
   ]
  },
  {
   "cell_type": "code",
   "execution_count": 210,
   "id": "8625a251",
   "metadata": {},
   "outputs": [
    {
     "data": {
      "text/plain": [
       "array(['rainy', 'clear', 'foggy'], dtype=object)"
      ]
     },
     "execution_count": 210,
     "metadata": {},
     "output_type": "execute_result"
    }
   ],
   "source": [
    "X_train['weather'].unique()"
   ]
  },
  {
   "cell_type": "markdown",
   "id": "308571fc",
   "metadata": {},
   "source": [
    "Same processing as 'road_type'"
   ]
  },
  {
   "cell_type": "code",
   "execution_count": 211,
   "id": "2fe050e6",
   "metadata": {},
   "outputs": [
    {
     "name": "stdout",
     "output_type": "stream",
     "text": [
      "True\n"
     ]
    },
    {
     "data": {
      "text/html": [
       "<div>\n",
       "<style scoped>\n",
       "    .dataframe tbody tr th:only-of-type {\n",
       "        vertical-align: middle;\n",
       "    }\n",
       "\n",
       "    .dataframe tbody tr th {\n",
       "        vertical-align: top;\n",
       "    }\n",
       "\n",
       "    .dataframe thead th {\n",
       "        text-align: right;\n",
       "    }\n",
       "</style>\n",
       "<table border=\"1\" class=\"dataframe\">\n",
       "  <thead>\n",
       "    <tr style=\"text-align: right;\">\n",
       "      <th></th>\n",
       "      <th>clear</th>\n",
       "      <th>foggy</th>\n",
       "      <th>rainy</th>\n",
       "    </tr>\n",
       "  </thead>\n",
       "  <tbody>\n",
       "    <tr>\n",
       "      <th>0</th>\n",
       "      <td>0</td>\n",
       "      <td>0</td>\n",
       "      <td>1</td>\n",
       "    </tr>\n",
       "    <tr>\n",
       "      <th>1</th>\n",
       "      <td>1</td>\n",
       "      <td>0</td>\n",
       "      <td>0</td>\n",
       "    </tr>\n",
       "    <tr>\n",
       "      <th>2</th>\n",
       "      <td>1</td>\n",
       "      <td>0</td>\n",
       "      <td>0</td>\n",
       "    </tr>\n",
       "    <tr>\n",
       "      <th>3</th>\n",
       "      <td>0</td>\n",
       "      <td>0</td>\n",
       "      <td>1</td>\n",
       "    </tr>\n",
       "    <tr>\n",
       "      <th>4</th>\n",
       "      <td>0</td>\n",
       "      <td>1</td>\n",
       "      <td>0</td>\n",
       "    </tr>\n",
       "  </tbody>\n",
       "</table>\n",
       "</div>"
      ],
      "text/plain": [
       "   clear  foggy  rainy\n",
       "0      0      0      1\n",
       "1      1      0      0\n",
       "2      1      0      0\n",
       "3      0      0      1\n",
       "4      0      1      0"
      ]
     },
     "execution_count": 211,
     "metadata": {},
     "output_type": "execute_result"
    }
   ],
   "source": [
    "Wdummies = pd.get_dummies(X_train['weather']).astype(int)\n",
    "\n",
    "print(Wdummies.shape[0] == X_train.shape[0])\n",
    "\n",
    "Wdummies.head(5)"
   ]
  },
  {
   "cell_type": "markdown",
   "id": "35e48d56",
   "metadata": {},
   "source": [
    "#### time_of_day"
   ]
  },
  {
   "cell_type": "code",
   "execution_count": 212,
   "id": "233c7194",
   "metadata": {},
   "outputs": [
    {
     "data": {
      "text/plain": [
       "array(['afternoon', 'evening', 'morning'], dtype=object)"
      ]
     },
     "execution_count": 212,
     "metadata": {},
     "output_type": "execute_result"
    }
   ],
   "source": [
    "X_train['time_of_day'].unique()"
   ]
  },
  {
   "cell_type": "markdown",
   "id": "e45db02e",
   "metadata": {},
   "source": [
    "Same processing as 'road_type'"
   ]
  },
  {
   "cell_type": "code",
   "execution_count": 213,
   "id": "412a2a61",
   "metadata": {},
   "outputs": [
    {
     "name": "stdout",
     "output_type": "stream",
     "text": [
      "True\n"
     ]
    },
    {
     "data": {
      "text/html": [
       "<div>\n",
       "<style scoped>\n",
       "    .dataframe tbody tr th:only-of-type {\n",
       "        vertical-align: middle;\n",
       "    }\n",
       "\n",
       "    .dataframe tbody tr th {\n",
       "        vertical-align: top;\n",
       "    }\n",
       "\n",
       "    .dataframe thead th {\n",
       "        text-align: right;\n",
       "    }\n",
       "</style>\n",
       "<table border=\"1\" class=\"dataframe\">\n",
       "  <thead>\n",
       "    <tr style=\"text-align: right;\">\n",
       "      <th></th>\n",
       "      <th>afternoon</th>\n",
       "      <th>evening</th>\n",
       "      <th>morning</th>\n",
       "    </tr>\n",
       "  </thead>\n",
       "  <tbody>\n",
       "    <tr>\n",
       "      <th>0</th>\n",
       "      <td>1</td>\n",
       "      <td>0</td>\n",
       "      <td>0</td>\n",
       "    </tr>\n",
       "    <tr>\n",
       "      <th>1</th>\n",
       "      <td>0</td>\n",
       "      <td>1</td>\n",
       "      <td>0</td>\n",
       "    </tr>\n",
       "    <tr>\n",
       "      <th>2</th>\n",
       "      <td>0</td>\n",
       "      <td>0</td>\n",
       "      <td>1</td>\n",
       "    </tr>\n",
       "    <tr>\n",
       "      <th>3</th>\n",
       "      <td>0</td>\n",
       "      <td>0</td>\n",
       "      <td>1</td>\n",
       "    </tr>\n",
       "    <tr>\n",
       "      <th>4</th>\n",
       "      <td>0</td>\n",
       "      <td>1</td>\n",
       "      <td>0</td>\n",
       "    </tr>\n",
       "  </tbody>\n",
       "</table>\n",
       "</div>"
      ],
      "text/plain": [
       "   afternoon  evening  morning\n",
       "0          1        0        0\n",
       "1          0        1        0\n",
       "2          0        0        1\n",
       "3          0        0        1\n",
       "4          0        1        0"
      ]
     },
     "execution_count": 213,
     "metadata": {},
     "output_type": "execute_result"
    }
   ],
   "source": [
    "TODdummies = pd.get_dummies(X_train['time_of_day']).astype(int)\n",
    "\n",
    "print(TODdummies.shape[0] == X_train.shape[0])\n",
    "\n",
    "TODdummies.head(5)"
   ]
  },
  {
   "cell_type": "markdown",
   "id": "f3e0dad0",
   "metadata": {},
   "source": [
    "### Concat"
   ]
  },
  {
   "cell_type": "code",
   "execution_count": 214,
   "id": "b559a016",
   "metadata": {},
   "outputs": [
    {
     "data": {
      "text/html": [
       "<div>\n",
       "<style scoped>\n",
       "    .dataframe tbody tr th:only-of-type {\n",
       "        vertical-align: middle;\n",
       "    }\n",
       "\n",
       "    .dataframe tbody tr th {\n",
       "        vertical-align: top;\n",
       "    }\n",
       "\n",
       "    .dataframe thead th {\n",
       "        text-align: right;\n",
       "    }\n",
       "</style>\n",
       "<table border=\"1\" class=\"dataframe\">\n",
       "  <thead>\n",
       "    <tr style=\"text-align: right;\">\n",
       "      <th></th>\n",
       "      <th>afternoon</th>\n",
       "      <th>evening</th>\n",
       "      <th>morning</th>\n",
       "      <th>clear</th>\n",
       "      <th>foggy</th>\n",
       "      <th>rainy</th>\n",
       "      <th>daylight</th>\n",
       "      <th>dim</th>\n",
       "      <th>night</th>\n",
       "      <th>highway</th>\n",
       "      <th>rural</th>\n",
       "      <th>urban</th>\n",
       "      <th>road_signs_present</th>\n",
       "      <th>public_road</th>\n",
       "      <th>holiday</th>\n",
       "      <th>school_season</th>\n",
       "      <th>num_lanes</th>\n",
       "      <th>curvature</th>\n",
       "      <th>speed_limit</th>\n",
       "      <th>num_reported_accidents</th>\n",
       "    </tr>\n",
       "  </thead>\n",
       "  <tbody>\n",
       "    <tr>\n",
       "      <th>0</th>\n",
       "      <td>1</td>\n",
       "      <td>0</td>\n",
       "      <td>0</td>\n",
       "      <td>0</td>\n",
       "      <td>0</td>\n",
       "      <td>1</td>\n",
       "      <td>1</td>\n",
       "      <td>0</td>\n",
       "      <td>0</td>\n",
       "      <td>0</td>\n",
       "      <td>0</td>\n",
       "      <td>1</td>\n",
       "      <td>0</td>\n",
       "      <td>1</td>\n",
       "      <td>0</td>\n",
       "      <td>1</td>\n",
       "      <td>2</td>\n",
       "      <td>0.06</td>\n",
       "      <td>35</td>\n",
       "      <td>1</td>\n",
       "    </tr>\n",
       "    <tr>\n",
       "      <th>1</th>\n",
       "      <td>0</td>\n",
       "      <td>1</td>\n",
       "      <td>0</td>\n",
       "      <td>1</td>\n",
       "      <td>0</td>\n",
       "      <td>0</td>\n",
       "      <td>1</td>\n",
       "      <td>0</td>\n",
       "      <td>0</td>\n",
       "      <td>0</td>\n",
       "      <td>0</td>\n",
       "      <td>1</td>\n",
       "      <td>1</td>\n",
       "      <td>0</td>\n",
       "      <td>1</td>\n",
       "      <td>1</td>\n",
       "      <td>4</td>\n",
       "      <td>0.99</td>\n",
       "      <td>35</td>\n",
       "      <td>0</td>\n",
       "    </tr>\n",
       "    <tr>\n",
       "      <th>2</th>\n",
       "      <td>0</td>\n",
       "      <td>0</td>\n",
       "      <td>1</td>\n",
       "      <td>1</td>\n",
       "      <td>0</td>\n",
       "      <td>0</td>\n",
       "      <td>0</td>\n",
       "      <td>1</td>\n",
       "      <td>0</td>\n",
       "      <td>0</td>\n",
       "      <td>1</td>\n",
       "      <td>0</td>\n",
       "      <td>0</td>\n",
       "      <td>1</td>\n",
       "      <td>1</td>\n",
       "      <td>0</td>\n",
       "      <td>4</td>\n",
       "      <td>0.63</td>\n",
       "      <td>70</td>\n",
       "      <td>2</td>\n",
       "    </tr>\n",
       "    <tr>\n",
       "      <th>3</th>\n",
       "      <td>0</td>\n",
       "      <td>0</td>\n",
       "      <td>1</td>\n",
       "      <td>0</td>\n",
       "      <td>0</td>\n",
       "      <td>1</td>\n",
       "      <td>0</td>\n",
       "      <td>1</td>\n",
       "      <td>0</td>\n",
       "      <td>1</td>\n",
       "      <td>0</td>\n",
       "      <td>0</td>\n",
       "      <td>1</td>\n",
       "      <td>1</td>\n",
       "      <td>0</td>\n",
       "      <td>0</td>\n",
       "      <td>4</td>\n",
       "      <td>0.07</td>\n",
       "      <td>35</td>\n",
       "      <td>1</td>\n",
       "    </tr>\n",
       "    <tr>\n",
       "      <th>4</th>\n",
       "      <td>0</td>\n",
       "      <td>1</td>\n",
       "      <td>0</td>\n",
       "      <td>0</td>\n",
       "      <td>1</td>\n",
       "      <td>0</td>\n",
       "      <td>1</td>\n",
       "      <td>0</td>\n",
       "      <td>0</td>\n",
       "      <td>0</td>\n",
       "      <td>1</td>\n",
       "      <td>0</td>\n",
       "      <td>0</td>\n",
       "      <td>0</td>\n",
       "      <td>1</td>\n",
       "      <td>0</td>\n",
       "      <td>1</td>\n",
       "      <td>0.58</td>\n",
       "      <td>60</td>\n",
       "      <td>1</td>\n",
       "    </tr>\n",
       "  </tbody>\n",
       "</table>\n",
       "</div>"
      ],
      "text/plain": [
       "   afternoon  evening  morning  clear  foggy  rainy  daylight  dim  night  \\\n",
       "0          1        0        0      0      0      1         1    0      0   \n",
       "1          0        1        0      1      0      0         1    0      0   \n",
       "2          0        0        1      1      0      0         0    1      0   \n",
       "3          0        0        1      0      0      1         0    1      0   \n",
       "4          0        1        0      0      1      0         1    0      0   \n",
       "\n",
       "   highway  rural  urban  road_signs_present  public_road  holiday  \\\n",
       "0        0      0      1                   0            1        0   \n",
       "1        0      0      1                   1            0        1   \n",
       "2        0      1      0                   0            1        1   \n",
       "3        1      0      0                   1            1        0   \n",
       "4        0      1      0                   0            0        1   \n",
       "\n",
       "   school_season  num_lanes  curvature  speed_limit  num_reported_accidents  \n",
       "0              1          2       0.06           35                       1  \n",
       "1              1          4       0.99           35                       0  \n",
       "2              0          4       0.63           70                       2  \n",
       "3              0          4       0.07           35                       1  \n",
       "4              0          1       0.58           60                       1  "
      ]
     },
     "execution_count": 214,
     "metadata": {},
     "output_type": "execute_result"
    }
   ],
   "source": [
    "XTotal = pd.concat([TODdummies, Wdummies, Ldummies, RTdummies, \n",
    "                    SRP, PR, H, SS, \n",
    "                    X_train['num_lanes'], X_train['curvature'], X_train['speed_limit'], X_train['num_reported_accidents']]\n",
    "                    , axis=1)\n",
    "\n",
    "XTotal.head(5)"
   ]
  },
  {
   "cell_type": "code",
   "execution_count": 215,
   "id": "e5bbdb15",
   "metadata": {},
   "outputs": [
    {
     "name": "stdout",
     "output_type": "stream",
     "text": [
      "True\n"
     ]
    }
   ],
   "source": [
    "print(X_train.shape[0] == XTotal.shape[0])"
   ]
  },
  {
   "cell_type": "markdown",
   "id": "8bd8effd",
   "metadata": {},
   "source": [
    "### Scaler"
   ]
  },
  {
   "cell_type": "code",
   "execution_count": 216,
   "id": "979ceb87",
   "metadata": {},
   "outputs": [
    {
     "data": {
      "text/html": [
       "<div>\n",
       "<style scoped>\n",
       "    .dataframe tbody tr th:only-of-type {\n",
       "        vertical-align: middle;\n",
       "    }\n",
       "\n",
       "    .dataframe tbody tr th {\n",
       "        vertical-align: top;\n",
       "    }\n",
       "\n",
       "    .dataframe thead th {\n",
       "        text-align: right;\n",
       "    }\n",
       "</style>\n",
       "<table border=\"1\" class=\"dataframe\">\n",
       "  <thead>\n",
       "    <tr style=\"text-align: right;\">\n",
       "      <th></th>\n",
       "      <th>afternoon</th>\n",
       "      <th>evening</th>\n",
       "      <th>morning</th>\n",
       "      <th>clear</th>\n",
       "      <th>foggy</th>\n",
       "      <th>rainy</th>\n",
       "      <th>daylight</th>\n",
       "      <th>dim</th>\n",
       "      <th>night</th>\n",
       "      <th>highway</th>\n",
       "      <th>rural</th>\n",
       "      <th>urban</th>\n",
       "      <th>road_signs_present</th>\n",
       "      <th>public_road</th>\n",
       "      <th>holiday</th>\n",
       "      <th>school_season</th>\n",
       "      <th>num_lanes</th>\n",
       "      <th>curvature</th>\n",
       "      <th>speed_limit</th>\n",
       "      <th>num_reported_accidents</th>\n",
       "    </tr>\n",
       "  </thead>\n",
       "  <tbody>\n",
       "    <tr>\n",
       "      <th>0</th>\n",
       "      <td>1.420863</td>\n",
       "      <td>-0.707882</td>\n",
       "      <td>-0.709644</td>\n",
       "      <td>-0.727866</td>\n",
       "      <td>-0.734575</td>\n",
       "      <td>1.515952</td>\n",
       "      <td>1.381479</td>\n",
       "      <td>-0.741954</td>\n",
       "      <td>-0.656421</td>\n",
       "      <td>-0.710451</td>\n",
       "      <td>-0.707520</td>\n",
       "      <td>1.421755</td>\n",
       "      <td>-0.998410</td>\n",
       "      <td>0.995498</td>\n",
       "      <td>-1.007020</td>\n",
       "      <td>1.004984</td>\n",
       "      <td>-0.438680</td>\n",
       "      <td>-1.572918</td>\n",
       "      <td>-0.703840</td>\n",
       "      <td>-0.209797</td>\n",
       "    </tr>\n",
       "    <tr>\n",
       "      <th>1</th>\n",
       "      <td>-0.703798</td>\n",
       "      <td>1.412664</td>\n",
       "      <td>-0.709644</td>\n",
       "      <td>1.373879</td>\n",
       "      <td>-0.734575</td>\n",
       "      <td>-0.659651</td>\n",
       "      <td>1.381479</td>\n",
       "      <td>-0.741954</td>\n",
       "      <td>-0.656421</td>\n",
       "      <td>-0.710451</td>\n",
       "      <td>-0.707520</td>\n",
       "      <td>1.421755</td>\n",
       "      <td>1.001593</td>\n",
       "      <td>-1.004522</td>\n",
       "      <td>0.993029</td>\n",
       "      <td>1.004984</td>\n",
       "      <td>1.346344</td>\n",
       "      <td>1.839137</td>\n",
       "      <td>-0.703840</td>\n",
       "      <td>-1.325918</td>\n",
       "    </tr>\n",
       "    <tr>\n",
       "      <th>2</th>\n",
       "      <td>-0.703798</td>\n",
       "      <td>-0.707882</td>\n",
       "      <td>1.409156</td>\n",
       "      <td>1.373879</td>\n",
       "      <td>-0.734575</td>\n",
       "      <td>-0.659651</td>\n",
       "      <td>-0.723862</td>\n",
       "      <td>1.347792</td>\n",
       "      <td>-0.656421</td>\n",
       "      <td>-0.710451</td>\n",
       "      <td>1.413388</td>\n",
       "      <td>-0.703356</td>\n",
       "      <td>-0.998410</td>\n",
       "      <td>0.995498</td>\n",
       "      <td>0.993029</td>\n",
       "      <td>-0.995041</td>\n",
       "      <td>1.346344</td>\n",
       "      <td>0.518342</td>\n",
       "      <td>1.512963</td>\n",
       "      <td>0.906324</td>\n",
       "    </tr>\n",
       "    <tr>\n",
       "      <th>3</th>\n",
       "      <td>-0.703798</td>\n",
       "      <td>-0.707882</td>\n",
       "      <td>1.409156</td>\n",
       "      <td>-0.727866</td>\n",
       "      <td>-0.734575</td>\n",
       "      <td>1.515952</td>\n",
       "      <td>-0.723862</td>\n",
       "      <td>1.347792</td>\n",
       "      <td>-0.656421</td>\n",
       "      <td>1.407557</td>\n",
       "      <td>-0.707520</td>\n",
       "      <td>-0.703356</td>\n",
       "      <td>1.001593</td>\n",
       "      <td>0.995498</td>\n",
       "      <td>-1.007020</td>\n",
       "      <td>-0.995041</td>\n",
       "      <td>1.346344</td>\n",
       "      <td>-1.536229</td>\n",
       "      <td>-0.703840</td>\n",
       "      <td>-0.209797</td>\n",
       "    </tr>\n",
       "    <tr>\n",
       "      <th>4</th>\n",
       "      <td>-0.703798</td>\n",
       "      <td>1.412664</td>\n",
       "      <td>-0.709644</td>\n",
       "      <td>-0.727866</td>\n",
       "      <td>1.361331</td>\n",
       "      <td>-0.659651</td>\n",
       "      <td>1.381479</td>\n",
       "      <td>-0.741954</td>\n",
       "      <td>-0.656421</td>\n",
       "      <td>-0.710451</td>\n",
       "      <td>1.413388</td>\n",
       "      <td>-0.703356</td>\n",
       "      <td>-0.998410</td>\n",
       "      <td>-1.004522</td>\n",
       "      <td>0.993029</td>\n",
       "      <td>-0.995041</td>\n",
       "      <td>-1.331192</td>\n",
       "      <td>0.334898</td>\n",
       "      <td>0.879591</td>\n",
       "      <td>-0.209797</td>\n",
       "    </tr>\n",
       "  </tbody>\n",
       "</table>\n",
       "</div>"
      ],
      "text/plain": [
       "   afternoon   evening   morning     clear     foggy     rainy  daylight  \\\n",
       "0   1.420863 -0.707882 -0.709644 -0.727866 -0.734575  1.515952  1.381479   \n",
       "1  -0.703798  1.412664 -0.709644  1.373879 -0.734575 -0.659651  1.381479   \n",
       "2  -0.703798 -0.707882  1.409156  1.373879 -0.734575 -0.659651 -0.723862   \n",
       "3  -0.703798 -0.707882  1.409156 -0.727866 -0.734575  1.515952 -0.723862   \n",
       "4  -0.703798  1.412664 -0.709644 -0.727866  1.361331 -0.659651  1.381479   \n",
       "\n",
       "        dim     night   highway     rural     urban  road_signs_present  \\\n",
       "0 -0.741954 -0.656421 -0.710451 -0.707520  1.421755           -0.998410   \n",
       "1 -0.741954 -0.656421 -0.710451 -0.707520  1.421755            1.001593   \n",
       "2  1.347792 -0.656421 -0.710451  1.413388 -0.703356           -0.998410   \n",
       "3  1.347792 -0.656421  1.407557 -0.707520 -0.703356            1.001593   \n",
       "4 -0.741954 -0.656421 -0.710451  1.413388 -0.703356           -0.998410   \n",
       "\n",
       "   public_road   holiday  school_season  num_lanes  curvature  speed_limit  \\\n",
       "0     0.995498 -1.007020       1.004984  -0.438680  -1.572918    -0.703840   \n",
       "1    -1.004522  0.993029       1.004984   1.346344   1.839137    -0.703840   \n",
       "2     0.995498  0.993029      -0.995041   1.346344   0.518342     1.512963   \n",
       "3     0.995498 -1.007020      -0.995041   1.346344  -1.536229    -0.703840   \n",
       "4    -1.004522  0.993029      -0.995041  -1.331192   0.334898     0.879591   \n",
       "\n",
       "   num_reported_accidents  \n",
       "0               -0.209797  \n",
       "1               -1.325918  \n",
       "2                0.906324  \n",
       "3               -0.209797  \n",
       "4               -0.209797  "
      ]
     },
     "execution_count": 216,
     "metadata": {},
     "output_type": "execute_result"
    }
   ],
   "source": [
    "#\"\"\"\n",
    "scaler = StandardScaler()\n",
    "#scaler.fit(XTotal)\n",
    "#XTotal = pd.DataFrame(scaler.transform(XTotal))\n",
    "\n",
    "for i in XTotal.select_dtypes(include=np.number).columns.tolist():\n",
    "    XTotal[i]=scaler.fit_transform(XTotal[[i]])\n",
    "\n",
    "XTotal.head(5)\n",
    "#\"\"\""
   ]
  },
  {
   "cell_type": "markdown",
   "id": "c654b7b9",
   "metadata": {},
   "source": [
    "## Model testing"
   ]
  },
  {
   "cell_type": "markdown",
   "id": "72aa6797",
   "metadata": {},
   "source": [
    "### param testing"
   ]
  },
  {
   "cell_type": "code",
   "execution_count": 217,
   "id": "fa30c243",
   "metadata": {},
   "outputs": [],
   "source": [
    "knn_grid_params = {\n",
    "    'n_neighbors': [3, 5, 7, 9, 11, 15, 20],\n",
    "    'weights': ['uniform', 'distance'],\n",
    "    'algorithm': ['auto', 'ball_tree', 'kd_tree', 'brute'],\n",
    "    'leaf_size': [10, 20, 30, 40, 50],\n",
    "    'p': [1, 2]\n",
    "}\n",
    "\n",
    "lasso_grid_params = {\n",
    "    'eps': [0.0001, 0.0005, 0.001, 0.005, 0.01],\n",
    "    'n_alphas': [10, 100, 200, 300, 400, 500],\n",
    "    'cv': [3, 4, 5, 6, 7, 8, 9, 10],\n",
    "}\n",
    "\n",
    "gb_grid_params =  {\n",
    "    'n_estimators': [150, 200, 250, 300, 350, 400, 500],\n",
    "    'learning_rate': [0.01, 0.05, 0.1, 0.02, 0.03, 0.4, 0.06, 0.07],\n",
    "    'max_depth': [6, 7, 8,  9, 10, 11, 12, 13, None],\n",
    "    'max_features': ['sqrt'],\n",
    "    'min_samples_split': [2, 3, 4, 5, 6, 7, 8, 9, 10, 11, 12, 13, 14, 15, 17,29],\n",
    "    'min_samples_leaf': [1, 2, 3, 4, 5, 6, 8, 10, 12, 14, 16, 18, 20],\n",
    "    'subsample': [0.7, 0.75, 0.8, 0.85, 0.9, 0.95, 1],\n",
    "    'random_state': [1, 2, 3, 4, 5, 42]\n",
    "}\n",
    "\n",
    "cat_grid_params = {\n",
    "    'iterations': [200, 400, 600, 800, 1000],\n",
    "    'learning_rate': [0.01, 0.03, 0.05, 0.1, 0.2],\n",
    "    'depth': [4, 6, 8, 10],\n",
    "    'l2_leaf_reg': [1, 3, 5, 7, 9],\n",
    "    'bagging_temperature': [0, 0.25, 0.5, 1.0],\n",
    "    'border_count': [32, 64, 128, 254],\n",
    "    'random_strength': [0, 0.5, 1, 2],\n",
    "    'boosting_type': ['Plain'],\n",
    "    'grow_policy': ['SymmetricTree', 'Depthwise', 'Lossguide'],\n",
    "    'min_data_in_leaf': [1, 5, 10, 20, 50],\n",
    "    'rsm': [0.8, 0.9, 1.0],\n",
    "    'loss_function': ['RMSE', 'MAE', 'Quantile'],\n",
    "    'eval_metric': ['RMSE', 'MAE']\n",
    "}\n",
    "\n",
    "ridge_grid_params = {\n",
    "    'alphas': [[0.01, 0.1, 1.0, 10.0, 100.0]],\n",
    "    'fit_intercept': [True, False],\n",
    "    'cv': [3, 5, 10],\n",
    "    'scoring': [None, 'neg_mean_squared_error', 'r2']\n",
    "\n",
    "}\n",
    "\n",
    "linear_grid_params = {\n",
    "    'fit_intercept': [True, False],\n",
    "    'copy_X': [True, False],\n",
    "    'positive': [False, True]\n",
    "}\n",
    "\n",
    "rf_grid_params = {\n",
    "    'n_estimators': [100, 200, 300, 400, 500],\n",
    "    'max_features': ['sqrt', 'log2'],\n",
    "    'max_depth': [10, 20, 30, 40, 50, 60, 70, 80, 90, 100, None],\n",
    "    'min_samples_split': [2, 5, 10],\n",
    "    'min_samples_leaf': [1, 2, 4],\n",
    "    'bootstrap': [True, False],\n",
    "    'criterion': ['squared_error'],\n",
    "    'random_state': [i for i in range(1, 100)]\n",
    "}"
   ]
  },
  {
   "cell_type": "code",
   "execution_count": 218,
   "id": "6f5bbc82",
   "metadata": {},
   "outputs": [],
   "source": [
    "n_iter = 10\n",
    "\n",
    "def get_params(X_train, y_train, model, grid_params):\n",
    "    estimator = RandomizedSearchCV(model, grid_params, cv=5, n_iter=n_iter, verbose=1, scoring='neg_mean_squared_error')\n",
    "    estimator.fit(X_train, y_train)\n",
    "    print(estimator.best_params_)\n",
    "    return estimator.best_params_"
   ]
  },
  {
   "cell_type": "code",
   "execution_count": 219,
   "id": "df1c6070",
   "metadata": {},
   "outputs": [],
   "source": [
    "#knn_params = get_params(XTotal, y_train, KNeighborsRegressor(), knn_grid_params)\n",
    "#lasso_params = get_params(XTotal, y_train, LassoCV(), lasso_grid_params)\n",
    "#gb_params = get_params(XTotal, y_train, GradientBoostingRegressor(), gb_grid_params)\n",
    "#cat_params = get_params(XTotal, y_train, CatBoostRegressor(), cat_grid_params)\n",
    "#ridge_params = get_params(XTotal, y_train, RidgeCV(), ridge_grid_params)\n",
    "#lr_params = get_params(XTotal, y_train, LinearRegression(), linear_grid_params)\n",
    "#rf_params = get_params(XTotal, y_train, RandomForestRegressor(), rf_grid_params)"
   ]
  },
  {
   "cell_type": "markdown",
   "id": "2a8ff12e",
   "metadata": {},
   "source": [
    "Result for KNN : {'weights': 'uniform', 'p': 1, 'n_neighbors': 3, 'leaf_size': 10, 'algorithm': 'brute'}\n",
    "               : {'weights': 'distance', 'p': 2, 'n_neighbors': 15, 'leaf_size': 50, 'algorithm': 'brute'}"
   ]
  },
  {
   "cell_type": "markdown",
   "id": "1153e544",
   "metadata": {},
   "source": [
    "Result for GB : {'subsample': 0.7, 'random_state': 42, 'n_estimators': 500, 'min_samples_split': 29, 'min_samples_leaf': 4, 'max_features': 'sqrt', 'max_depth': 6, 'learning_rate': 0.07}"
   ]
  },
  {
   "cell_type": "markdown",
   "id": "8faa93f6",
   "metadata": {},
   "source": [
    "Result for Catboost : {'rsm': 1.0, 'random_strength': 0.5, 'min_data_in_leaf': 50, 'loss_function': 'RMSE', 'learning_rate': 0.1, 'l2_leaf_reg': 9, 'iterations': 400, 'grow_policy': 'SymmetricTree', 'eval_metric': 'MAE', 'depth': 6, 'border_count': 32, 'boosting_type': 'Plain', 'bagging_temperature': 1.0}"
   ]
  },
  {
   "cell_type": "markdown",
   "id": "3e2ebb93",
   "metadata": {},
   "source": [
    "Result for RidgeCV : {'scoring': 'neg_mean_squared_error', 'fit_intercept': True, 'cv': 10, 'alphas': [0.01, 0.1, 1.0, 10.0, 100.0]}"
   ]
  },
  {
   "cell_type": "markdown",
   "id": "7e4c6d13",
   "metadata": {},
   "source": [
    "Result for LinearRegression : {'positive': True, 'fit_intercept': True, 'copy_X': False}"
   ]
  },
  {
   "cell_type": "markdown",
   "id": "255332a3",
   "metadata": {},
   "source": [
    "Result for RandomForest : {'random_state': 66, 'n_estimators': 400, 'min_samples_split': 2, 'min_samples_leaf': 4, 'max_features': 'sqrt', 'max_depth': 60, 'criterion': 'squared_error', 'bootstrap': True}"
   ]
  },
  {
   "cell_type": "markdown",
   "id": "23e595a8",
   "metadata": {},
   "source": [
    "### Model generation"
   ]
  },
  {
   "cell_type": "code",
   "execution_count": 220,
   "id": "967282a3",
   "metadata": {},
   "outputs": [],
   "source": [
    "knn_params = {'weights': 'uniform', 'p': 1, 'n_neighbors': 3, 'leaf_size': 10, 'algorithm': 'brute'}\n",
    "gb_params = {'subsample': 0.7, 'random_state': 42, 'n_estimators': 500, 'min_samples_split': 29, 'min_samples_leaf': 4, 'max_features': 'sqrt', 'max_depth': 6, 'learning_rate': 0.07}\n",
    "xgbr_params = {'max_depth' : 8, 'learning_rate' : 0.01, 'n_estimators' : 2000, 'subsample' : 0.9, 'colsample_bytree' : 0.9, 'eval_metric' : \"rmse\"}\n",
    "cat_params = {'rsm': 1.0, 'random_strength': 0.5, 'min_data_in_leaf': 50, 'loss_function': 'RMSE', 'learning_rate': 0.1, 'l2_leaf_reg': 9, 'iterations': 400, 'grow_policy': 'SymmetricTree', 'eval_metric': 'MAE', 'depth': 6, 'border_count': 32, 'boosting_type': 'Plain', 'bagging_temperature': 1.0}\n",
    "ridge_params = {'scoring': 'neg_mean_squared_error', 'fit_intercept': True, 'cv': 10, 'alphas': [0.01, 0.1, 1.0, 10.0, 100.0]}\n",
    "linear_params = {'positive': True, 'fit_intercept': True, 'copy_X': False}\n",
    "rf_params = {'random_state': 66, 'n_estimators': 400, 'min_samples_split': 2, 'min_samples_leaf': 4, 'max_features': 'sqrt', 'max_depth': 60, 'criterion': 'squared_error', 'bootstrap': True}\n"
   ]
  },
  {
   "cell_type": "code",
   "execution_count": null,
   "id": "b5bce45e",
   "metadata": {},
   "outputs": [],
   "source": [
    "\n",
    "knn_pipeline = Pipeline([\n",
    "    ('bagging_knn', BaggingRegressor(\n",
    "        estimator=KNeighborsRegressor(**knn_params),\n",
    "        n_estimators=3,\n",
    "        max_samples=0.8,\n",
    "        max_features=1.0,\n",
    "        random_state=42,\n",
    "        n_jobs=-1\n",
    "    ))\n",
    "])\n",
    "\n",
    "gb_pipeline = Pipeline([\n",
    "    ('bagging_gb', BaggingRegressor(\n",
    "        estimator=GradientBoostingRegressor(**gb_params),\n",
    "        n_estimators=10,\n",
    "        max_samples=0.8,\n",
    "        max_features=1.0,\n",
    "        random_state=42,\n",
    "        n_jobs=-1\n",
    "    ))\n",
    "])\n",
    "\n",
    "xrgb_pipeline = Pipeline([\n",
    "    ('bagging_xrgb', BaggingRegressor(\n",
    "        estimator=XGBRegressor(**xgbr_params),\n",
    "        n_estimators=10,\n",
    "        max_samples=0.8,\n",
    "        max_features=1.0,\n",
    "        random_state=42,\n",
    "        n_jobs=-1\n",
    "    ))\n",
    "])\n",
    "\n",
    "cat_pipeline = Pipeline([\n",
    "    ('bagging_cat', BaggingRegressor(\n",
    "        estimator=CatBoostRegressor(**cat_params),\n",
    "        n_estimators=10,\n",
    "        max_samples=0.8,\n",
    "        max_features=1.0,\n",
    "        random_state=42,\n",
    "        n_jobs=-1\n",
    "    ))\n",
    "])"
   ]
  },
  {
   "cell_type": "code",
   "execution_count": null,
   "id": "7cf785f6",
   "metadata": {},
   "outputs": [],
   "source": [
    "estimators = [\n",
    "    #('knn', KNeighborsRegressor(**knn_params)),\n",
    "    #('xgbr', XGBRegressor(**xgbr_params)),\n",
    "    #('cat', CatBoostRegressor(**cat_params)),\n",
    "    #('gb' , GradientBoostingRegressor(**gb_params)),\n",
    "    #('lr', LinearRegression(**linear_params))\n",
    "    #('rf', RandomForestRegressor(**rf_params))\n",
    "    #('knn', knn_pipeline),                                 # !!! 1h model fitting\n",
    "    #('bg_bagging', gb_pipeline)\n",
    "    #('xrbg_bagging', xrgb_pipeline)\n",
    "    ('cat_bagging', cat_pipeline)\n",
    "]"
   ]
  },
  {
   "cell_type": "code",
   "execution_count": 223,
   "id": "f4d62477",
   "metadata": {},
   "outputs": [],
   "source": [
    "model = StackingRegressor(estimators=estimators, final_estimator=RidgeCV(**ridge_params))"
   ]
  },
  {
   "cell_type": "markdown",
   "id": "728e41ab",
   "metadata": {},
   "source": [
    "## Fold + MRSE"
   ]
  },
  {
   "cell_type": "code",
   "execution_count": 224,
   "id": "3e35d770",
   "metadata": {},
   "outputs": [],
   "source": [
    "fold_number = 1 # 10min * fold\n",
    "\n",
    "data = pd.concat([XTotal, y_train], axis=1)\n",
    "if(fold_number > 1 ):\n",
    "    kf = KFold(n_splits=fold_number, shuffle=True, random_state=42)"
   ]
  },
  {
   "cell_type": "markdown",
   "id": "beedd82f",
   "metadata": {},
   "source": [
    "### Root mean square error"
   ]
  },
  {
   "cell_type": "code",
   "execution_count": 225,
   "id": "3a9a6f9d",
   "metadata": {},
   "outputs": [],
   "source": [
    "if(CheckRMSE):\n",
    "    predTrain = model.predict(XTotal)\n",
    "    RMSE = np.sqrt(mean_squared_error(predTrain, y_train))\n",
    "    print(RMSE)"
   ]
  },
  {
   "cell_type": "markdown",
   "id": "7913a384",
   "metadata": {},
   "source": [
    "## Test Preprocessing"
   ]
  },
  {
   "cell_type": "code",
   "execution_count": 226,
   "id": "9e8c6dc8",
   "metadata": {},
   "outputs": [
    {
     "data": {
      "text/html": [
       "<div>\n",
       "<style scoped>\n",
       "    .dataframe tbody tr th:only-of-type {\n",
       "        vertical-align: middle;\n",
       "    }\n",
       "\n",
       "    .dataframe tbody tr th {\n",
       "        vertical-align: top;\n",
       "    }\n",
       "\n",
       "    .dataframe thead th {\n",
       "        text-align: right;\n",
       "    }\n",
       "</style>\n",
       "<table border=\"1\" class=\"dataframe\">\n",
       "  <thead>\n",
       "    <tr style=\"text-align: right;\">\n",
       "      <th></th>\n",
       "      <th>road_type</th>\n",
       "      <th>num_lanes</th>\n",
       "      <th>curvature</th>\n",
       "      <th>speed_limit</th>\n",
       "      <th>lighting</th>\n",
       "      <th>weather</th>\n",
       "      <th>road_signs_present</th>\n",
       "      <th>public_road</th>\n",
       "      <th>time_of_day</th>\n",
       "      <th>holiday</th>\n",
       "      <th>school_season</th>\n",
       "      <th>num_reported_accidents</th>\n",
       "    </tr>\n",
       "  </thead>\n",
       "  <tbody>\n",
       "    <tr>\n",
       "      <th>0</th>\n",
       "      <td>highway</td>\n",
       "      <td>2</td>\n",
       "      <td>0.34</td>\n",
       "      <td>45</td>\n",
       "      <td>night</td>\n",
       "      <td>clear</td>\n",
       "      <td>True</td>\n",
       "      <td>True</td>\n",
       "      <td>afternoon</td>\n",
       "      <td>True</td>\n",
       "      <td>True</td>\n",
       "      <td>1</td>\n",
       "    </tr>\n",
       "    <tr>\n",
       "      <th>1</th>\n",
       "      <td>urban</td>\n",
       "      <td>3</td>\n",
       "      <td>0.04</td>\n",
       "      <td>45</td>\n",
       "      <td>dim</td>\n",
       "      <td>foggy</td>\n",
       "      <td>True</td>\n",
       "      <td>False</td>\n",
       "      <td>afternoon</td>\n",
       "      <td>True</td>\n",
       "      <td>False</td>\n",
       "      <td>0</td>\n",
       "    </tr>\n",
       "    <tr>\n",
       "      <th>2</th>\n",
       "      <td>urban</td>\n",
       "      <td>2</td>\n",
       "      <td>0.59</td>\n",
       "      <td>35</td>\n",
       "      <td>dim</td>\n",
       "      <td>clear</td>\n",
       "      <td>True</td>\n",
       "      <td>False</td>\n",
       "      <td>afternoon</td>\n",
       "      <td>True</td>\n",
       "      <td>True</td>\n",
       "      <td>1</td>\n",
       "    </tr>\n",
       "    <tr>\n",
       "      <th>3</th>\n",
       "      <td>rural</td>\n",
       "      <td>4</td>\n",
       "      <td>0.95</td>\n",
       "      <td>35</td>\n",
       "      <td>daylight</td>\n",
       "      <td>rainy</td>\n",
       "      <td>False</td>\n",
       "      <td>False</td>\n",
       "      <td>afternoon</td>\n",
       "      <td>False</td>\n",
       "      <td>False</td>\n",
       "      <td>2</td>\n",
       "    </tr>\n",
       "    <tr>\n",
       "      <th>4</th>\n",
       "      <td>highway</td>\n",
       "      <td>2</td>\n",
       "      <td>0.86</td>\n",
       "      <td>35</td>\n",
       "      <td>daylight</td>\n",
       "      <td>clear</td>\n",
       "      <td>True</td>\n",
       "      <td>False</td>\n",
       "      <td>evening</td>\n",
       "      <td>False</td>\n",
       "      <td>True</td>\n",
       "      <td>3</td>\n",
       "    </tr>\n",
       "  </tbody>\n",
       "</table>\n",
       "</div>"
      ],
      "text/plain": [
       "  road_type  num_lanes  curvature  speed_limit  lighting weather  \\\n",
       "0   highway          2       0.34           45     night   clear   \n",
       "1     urban          3       0.04           45       dim   foggy   \n",
       "2     urban          2       0.59           35       dim   clear   \n",
       "3     rural          4       0.95           35  daylight   rainy   \n",
       "4   highway          2       0.86           35  daylight   clear   \n",
       "\n",
       "   road_signs_present  public_road time_of_day  holiday  school_season  \\\n",
       "0                True         True   afternoon     True           True   \n",
       "1                True        False   afternoon     True          False   \n",
       "2                True        False   afternoon     True           True   \n",
       "3               False        False   afternoon    False          False   \n",
       "4                True        False     evening    False           True   \n",
       "\n",
       "   num_reported_accidents  \n",
       "0                       1  \n",
       "1                       0  \n",
       "2                       1  \n",
       "3                       2  \n",
       "4                       3  "
      ]
     },
     "execution_count": 226,
     "metadata": {},
     "output_type": "execute_result"
    }
   ],
   "source": [
    "test = pd.read_csv(data_folder + \"test.csv\")\n",
    "id = test[\"id\"]\n",
    "test = test.drop(\"id\", axis=1)\n",
    "test.head(5)"
   ]
  },
  {
   "cell_type": "markdown",
   "id": "18ded399",
   "metadata": {},
   "source": [
    "### Missing value"
   ]
  },
  {
   "cell_type": "code",
   "execution_count": 227,
   "id": "6ce7e8b3",
   "metadata": {},
   "outputs": [
    {
     "data": {
      "text/plain": [
       "road_type                 0\n",
       "num_lanes                 0\n",
       "curvature                 0\n",
       "speed_limit               0\n",
       "lighting                  0\n",
       "weather                   0\n",
       "road_signs_present        0\n",
       "public_road               0\n",
       "time_of_day               0\n",
       "holiday                   0\n",
       "school_season             0\n",
       "num_reported_accidents    0\n",
       "dtype: int64"
      ]
     },
     "execution_count": 227,
     "metadata": {},
     "output_type": "execute_result"
    }
   ],
   "source": [
    "test.isna().sum()"
   ]
  },
  {
   "cell_type": "markdown",
   "id": "a8c2ad88",
   "metadata": {},
   "source": [
    "### Bool type processing"
   ]
  },
  {
   "cell_type": "code",
   "execution_count": 228,
   "id": "6d97c031",
   "metadata": {},
   "outputs": [],
   "source": [
    "SRP = test[\"road_signs_present\"].astype(int)\n",
    "PR = test[\"public_road\"].astype(int)\n",
    "H = test[\"holiday\"].astype(int)\n",
    "SS = test[\"school_season\"].astype(int)"
   ]
  },
  {
   "cell_type": "markdown",
   "id": "3f1daf84",
   "metadata": {},
   "source": [
    "### Object type processing"
   ]
  },
  {
   "cell_type": "code",
   "execution_count": 229,
   "id": "74e69632",
   "metadata": {},
   "outputs": [],
   "source": [
    "RTdummies = pd.get_dummies(test['road_type']).astype(int)\n",
    "Ldummies = pd.get_dummies(test['lighting']).astype(int)\n",
    "Wdummies = pd.get_dummies(test['weather']).astype(int)\n",
    "TODdummies = pd.get_dummies(test['time_of_day']).astype(int)"
   ]
  },
  {
   "cell_type": "markdown",
   "id": "3fbe2c3a",
   "metadata": {},
   "source": [
    "### Concat"
   ]
  },
  {
   "cell_type": "code",
   "execution_count": 230,
   "id": "d84b143a",
   "metadata": {},
   "outputs": [
    {
     "data": {
      "text/plain": [
       "afternoon                 0\n",
       "evening                   0\n",
       "morning                   0\n",
       "clear                     0\n",
       "foggy                     0\n",
       "rainy                     0\n",
       "daylight                  0\n",
       "dim                       0\n",
       "night                     0\n",
       "highway                   0\n",
       "rural                     0\n",
       "urban                     0\n",
       "road_signs_present        0\n",
       "public_road               0\n",
       "holiday                   0\n",
       "school_season             0\n",
       "num_lanes                 0\n",
       "curvature                 0\n",
       "speed_limit               0\n",
       "num_reported_accidents    0\n",
       "dtype: int64"
      ]
     },
     "execution_count": 230,
     "metadata": {},
     "output_type": "execute_result"
    }
   ],
   "source": [
    "test = pd.concat([TODdummies, Wdummies, Ldummies, RTdummies, \n",
    "                    SRP, PR, H, SS, \n",
    "                    test['num_lanes'], test['curvature'], test['speed_limit'], test['num_reported_accidents']]\n",
    "                    , axis=1)\n",
    "\n",
    "test.isna().sum()"
   ]
  },
  {
   "cell_type": "markdown",
   "id": "8cb4e719",
   "metadata": {},
   "source": [
    "### Scaler"
   ]
  },
  {
   "cell_type": "code",
   "execution_count": 231,
   "id": "c1c65222",
   "metadata": {},
   "outputs": [
    {
     "data": {
      "text/html": [
       "<div>\n",
       "<style scoped>\n",
       "    .dataframe tbody tr th:only-of-type {\n",
       "        vertical-align: middle;\n",
       "    }\n",
       "\n",
       "    .dataframe tbody tr th {\n",
       "        vertical-align: top;\n",
       "    }\n",
       "\n",
       "    .dataframe thead th {\n",
       "        text-align: right;\n",
       "    }\n",
       "</style>\n",
       "<table border=\"1\" class=\"dataframe\">\n",
       "  <thead>\n",
       "    <tr style=\"text-align: right;\">\n",
       "      <th></th>\n",
       "      <th>afternoon</th>\n",
       "      <th>evening</th>\n",
       "      <th>morning</th>\n",
       "      <th>clear</th>\n",
       "      <th>foggy</th>\n",
       "      <th>rainy</th>\n",
       "      <th>daylight</th>\n",
       "      <th>dim</th>\n",
       "      <th>night</th>\n",
       "      <th>highway</th>\n",
       "      <th>rural</th>\n",
       "      <th>urban</th>\n",
       "      <th>road_signs_present</th>\n",
       "      <th>public_road</th>\n",
       "      <th>holiday</th>\n",
       "      <th>school_season</th>\n",
       "      <th>num_lanes</th>\n",
       "      <th>curvature</th>\n",
       "      <th>speed_limit</th>\n",
       "      <th>num_reported_accidents</th>\n",
       "    </tr>\n",
       "  </thead>\n",
       "  <tbody>\n",
       "    <tr>\n",
       "      <th>0</th>\n",
       "      <td>1</td>\n",
       "      <td>0</td>\n",
       "      <td>0</td>\n",
       "      <td>1</td>\n",
       "      <td>0</td>\n",
       "      <td>0</td>\n",
       "      <td>0</td>\n",
       "      <td>0</td>\n",
       "      <td>1</td>\n",
       "      <td>1</td>\n",
       "      <td>0</td>\n",
       "      <td>0</td>\n",
       "      <td>1</td>\n",
       "      <td>1</td>\n",
       "      <td>1</td>\n",
       "      <td>1</td>\n",
       "      <td>-0.438680</td>\n",
       "      <td>-0.545632</td>\n",
       "      <td>-0.070467</td>\n",
       "      <td>-0.209797</td>\n",
       "    </tr>\n",
       "    <tr>\n",
       "      <th>1</th>\n",
       "      <td>1</td>\n",
       "      <td>0</td>\n",
       "      <td>0</td>\n",
       "      <td>0</td>\n",
       "      <td>1</td>\n",
       "      <td>0</td>\n",
       "      <td>0</td>\n",
       "      <td>1</td>\n",
       "      <td>0</td>\n",
       "      <td>0</td>\n",
       "      <td>0</td>\n",
       "      <td>1</td>\n",
       "      <td>1</td>\n",
       "      <td>0</td>\n",
       "      <td>1</td>\n",
       "      <td>0</td>\n",
       "      <td>0.453832</td>\n",
       "      <td>-1.646295</td>\n",
       "      <td>-0.070467</td>\n",
       "      <td>-1.325918</td>\n",
       "    </tr>\n",
       "    <tr>\n",
       "      <th>2</th>\n",
       "      <td>1</td>\n",
       "      <td>0</td>\n",
       "      <td>0</td>\n",
       "      <td>1</td>\n",
       "      <td>0</td>\n",
       "      <td>0</td>\n",
       "      <td>0</td>\n",
       "      <td>1</td>\n",
       "      <td>0</td>\n",
       "      <td>0</td>\n",
       "      <td>0</td>\n",
       "      <td>1</td>\n",
       "      <td>1</td>\n",
       "      <td>0</td>\n",
       "      <td>1</td>\n",
       "      <td>1</td>\n",
       "      <td>-0.438680</td>\n",
       "      <td>0.371587</td>\n",
       "      <td>-0.703840</td>\n",
       "      <td>-0.209797</td>\n",
       "    </tr>\n",
       "    <tr>\n",
       "      <th>3</th>\n",
       "      <td>1</td>\n",
       "      <td>0</td>\n",
       "      <td>0</td>\n",
       "      <td>0</td>\n",
       "      <td>0</td>\n",
       "      <td>1</td>\n",
       "      <td>1</td>\n",
       "      <td>0</td>\n",
       "      <td>0</td>\n",
       "      <td>0</td>\n",
       "      <td>1</td>\n",
       "      <td>0</td>\n",
       "      <td>0</td>\n",
       "      <td>0</td>\n",
       "      <td>0</td>\n",
       "      <td>0</td>\n",
       "      <td>1.346344</td>\n",
       "      <td>1.692382</td>\n",
       "      <td>-0.703840</td>\n",
       "      <td>0.906324</td>\n",
       "    </tr>\n",
       "    <tr>\n",
       "      <th>4</th>\n",
       "      <td>0</td>\n",
       "      <td>1</td>\n",
       "      <td>0</td>\n",
       "      <td>1</td>\n",
       "      <td>0</td>\n",
       "      <td>0</td>\n",
       "      <td>1</td>\n",
       "      <td>0</td>\n",
       "      <td>0</td>\n",
       "      <td>1</td>\n",
       "      <td>0</td>\n",
       "      <td>0</td>\n",
       "      <td>1</td>\n",
       "      <td>0</td>\n",
       "      <td>0</td>\n",
       "      <td>1</td>\n",
       "      <td>-0.438680</td>\n",
       "      <td>1.362183</td>\n",
       "      <td>-0.703840</td>\n",
       "      <td>2.022445</td>\n",
       "    </tr>\n",
       "  </tbody>\n",
       "</table>\n",
       "</div>"
      ],
      "text/plain": [
       "   afternoon  evening  morning  clear  foggy  rainy  daylight  dim  night  \\\n",
       "0          1        0        0      1      0      0         0    0      1   \n",
       "1          1        0        0      0      1      0         0    1      0   \n",
       "2          1        0        0      1      0      0         0    1      0   \n",
       "3          1        0        0      0      0      1         1    0      0   \n",
       "4          0        1        0      1      0      0         1    0      0   \n",
       "\n",
       "   highway  rural  urban  road_signs_present  public_road  holiday  \\\n",
       "0        1      0      0                   1            1        1   \n",
       "1        0      0      1                   1            0        1   \n",
       "2        0      0      1                   1            0        1   \n",
       "3        0      1      0                   0            0        0   \n",
       "4        1      0      0                   1            0        0   \n",
       "\n",
       "   school_season  num_lanes  curvature  speed_limit  num_reported_accidents  \n",
       "0              1  -0.438680  -0.545632    -0.070467               -0.209797  \n",
       "1              0   0.453832  -1.646295    -0.070467               -1.325918  \n",
       "2              1  -0.438680   0.371587    -0.703840               -0.209797  \n",
       "3              0   1.346344   1.692382    -0.703840                0.906324  \n",
       "4              1  -0.438680   1.362183    -0.703840                2.022445  "
      ]
     },
     "execution_count": 231,
     "metadata": {},
     "output_type": "execute_result"
    }
   ],
   "source": [
    "#\"\"\"\n",
    "for i in X_train.select_dtypes(include=np.number).columns.tolist():\n",
    "    X_train[i]=scaler.fit_transform(X_train[[i]])\n",
    "    test[i]=scaler.transform(test[[i]])\n",
    "\n",
    "test.head(5)\n",
    "#\"\"\""
   ]
  },
  {
   "cell_type": "markdown",
   "id": "f6f538a3",
   "metadata": {},
   "source": [
    "## Model fitting + prediction"
   ]
  },
  {
   "cell_type": "code",
   "execution_count": 232,
   "id": "635f2b16",
   "metadata": {},
   "outputs": [
    {
     "name": "stderr",
     "output_type": "stream",
     "text": [
      "C:\\Users\\xavie\\AppData\\Local\\Packages\\PythonSoftwareFoundation.Python.3.11_qbz5n2kfra8p0\\LocalCache\\local-packages\\Python311\\site-packages\\sklearn\\ensemble\\_stacking.py:1041: DataConversionWarning: A column-vector y was passed when a 1d array was expected. Please change the shape of y to (n_samples, ), for example using ravel().\n",
      "  y = column_or_1d(y, warn=True)\n"
     ]
    },
    {
     "name": "stdout",
     "output_type": "stream",
     "text": [
      "end of model fitting\n"
     ]
    }
   ],
   "source": [
    "predictions = []\n",
    "if(fold_number > 1):\n",
    "    for fold, (train_idx, test_idx) in enumerate(kf.split(XTotal), 1):\n",
    "\n",
    "        X_tr, X_te = XTotal.iloc[train_idx], XTotal.iloc[test_idx]\n",
    "        y_tr, y_te = y_train.iloc[train_idx], y_train.iloc[test_idx]\n",
    "\n",
    "        # Fit + evaluation\n",
    "        model.fit(X_tr, y_tr)\n",
    "        print(\"end of model : \" + str(fold))\n",
    "\n",
    "        predictions.append(model.predict(test))\n",
    "        print(\"end of prediction : \" + str(fold))\n",
    "\n",
    "else:\n",
    "    model.fit(XTotal, y_train)\n",
    "    print(\"end of model fitting\")\n",
    "    prediction = model.predict(test)"
   ]
  },
  {
   "cell_type": "markdown",
   "id": "950e33ad",
   "metadata": {},
   "source": [
    "## Prediction"
   ]
  },
  {
   "cell_type": "code",
   "execution_count": 233,
   "id": "88702799",
   "metadata": {},
   "outputs": [],
   "source": [
    "if(fold_number > 1):\n",
    "    prediction = [sum(values) / len(values) for values in zip(*predictions)]\n"
   ]
  },
  {
   "cell_type": "markdown",
   "id": "7125afb0",
   "metadata": {},
   "source": [
    "### ConcatFile"
   ]
  },
  {
   "cell_type": "code",
   "execution_count": 234,
   "id": "5032a220",
   "metadata": {},
   "outputs": [],
   "source": [
    "conc = False\n",
    "if(conc):\n",
    "    files = []\n",
    "    files.append(pd.read_csv(output_folder + 'submission_combined3.csv', usecols=[1]))\n",
    "    files.append(pd.read_csv(output_folder + 'submission_GB_KNN_R.csv', usecols=[1]))\n",
    "    #files.append(pd.read_csv(output_folder + 'submission_boostrap1.csv', usecols=[1]))\n",
    "\n",
    "    # Fusionne les 3 DataFrames colonne par colonne\n",
    "    combined = pd.concat(files, axis=1)\n",
    "\n",
    "    # Conversion automatique en float (au cas où certaines sont encore des str)\n",
    "    combined = combined.apply(pd.to_numeric, errors='coerce')\n",
    "\n",
    "    # Moyenne ligne par ligne\n",
    "    prediction = combined.mean(axis=1)\n",
    "\n",
    "    #prediction = [sum(values) / len(values) for values in zip(*files)]\n"
   ]
  },
  {
   "cell_type": "code",
   "execution_count": 235,
   "id": "93dcda6f",
   "metadata": {},
   "outputs": [
    {
     "data": {
      "text/plain": [
       "array([0.29081514, 0.12068234, 0.18658398, ..., 0.25151602, 0.13079813,\n",
       "       0.49929513])"
      ]
     },
     "execution_count": 235,
     "metadata": {},
     "output_type": "execute_result"
    }
   ],
   "source": [
    "prediction"
   ]
  },
  {
   "cell_type": "markdown",
   "id": "d177e359",
   "metadata": {},
   "source": [
    "## Save Data"
   ]
  },
  {
   "cell_type": "markdown",
   "id": "6ca88412",
   "metadata": {},
   "source": [
    "### Saving data"
   ]
  },
  {
   "cell_type": "code",
   "execution_count": null,
   "id": "11413e32",
   "metadata": {},
   "outputs": [
    {
     "name": "stdout",
     "output_type": "stream",
     "text": [
      "Saved: output/submission_knn_bg_bagging.csv\n"
     ]
    }
   ],
   "source": [
    "filename = output_folder + 'submission_cat_bagging.csv'\n",
    "\n",
    "pred = []\n",
    "for i in prediction:\n",
    "    pred.append(round(i, 3))\n",
    "\n",
    "submission = pd.DataFrame({\n",
    "    'id': id,\n",
    "    'accident_risk': pred\n",
    "})\n",
    "\n",
    "submission.to_csv(filename, index=False)\n",
    "print(f\"Saved: {filename}\")"
   ]
  }
 ],
 "metadata": {
  "kernelspec": {
   "display_name": "Python 3",
   "language": "python",
   "name": "python3"
  },
  "language_info": {
   "codemirror_mode": {
    "name": "ipython",
    "version": 3
   },
   "file_extension": ".py",
   "mimetype": "text/x-python",
   "name": "python",
   "nbconvert_exporter": "python",
   "pygments_lexer": "ipython3",
   "version": "3.11.9"
  }
 },
 "nbformat": 4,
 "nbformat_minor": 5
}
