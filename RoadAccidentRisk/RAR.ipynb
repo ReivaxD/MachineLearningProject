{
 "cells": [
  {
   "cell_type": "markdown",
   "id": "e83ee86d",
   "metadata": {},
   "source": [
    "# Road Accident Risk"
   ]
  },
  {
   "cell_type": "markdown",
   "id": "2682c714",
   "metadata": {},
   "source": [
    "## Initialisation"
   ]
  },
  {
   "cell_type": "code",
   "execution_count": 6,
   "id": "9befacb0",
   "metadata": {},
   "outputs": [],
   "source": [
    "import pandas as pd\n",
    "import numpy as np\n",
    "import seaborn as sns\n",
    "import matplotlib.pyplot as plt\n",
    "\n",
    "from sklearn.pipeline import Pipeline\n",
    "from sklearn.linear_model import LinearRegression\n",
    "from sklearn.preprocessing import StandardScaler\n",
    "from sklearn.neighbors import KNeighborsRegressor\n",
    "from sklearn.ensemble import GradientBoostingRegressor, StackingRegressor\n",
    "from sklearn.linear_model import LassoCV, RidgeCV"
   ]
  },
  {
   "cell_type": "markdown",
   "id": "8c7c20a9",
   "metadata": {},
   "source": [
    "### Code parameters"
   ]
  },
  {
   "cell_type": "code",
   "execution_count": 7,
   "id": "db6ccf74",
   "metadata": {},
   "outputs": [],
   "source": [
    "# Compute RMSE of the model (take few min)\n",
    "CheckRMSE = False\n",
    "# Save Submition in the output file\n",
    "save = True"
   ]
  },
  {
   "cell_type": "markdown",
   "id": "3019864b",
   "metadata": {},
   "source": [
    "### Path"
   ]
  },
  {
   "cell_type": "code",
   "execution_count": 8,
   "id": "22939b46",
   "metadata": {},
   "outputs": [],
   "source": [
    "data_folder = 'resources/'\n",
    "output_folder = 'output/'\n",
    "plots_folder = 'output/plots/'"
   ]
  },
  {
   "cell_type": "markdown",
   "id": "f986dced",
   "metadata": {},
   "source": [
    "## Train Data loading"
   ]
  },
  {
   "cell_type": "code",
   "execution_count": 9,
   "id": "5091bcd2",
   "metadata": {},
   "outputs": [
    {
     "data": {
      "text/html": [
       "<div>\n",
       "<style scoped>\n",
       "    .dataframe tbody tr th:only-of-type {\n",
       "        vertical-align: middle;\n",
       "    }\n",
       "\n",
       "    .dataframe tbody tr th {\n",
       "        vertical-align: top;\n",
       "    }\n",
       "\n",
       "    .dataframe thead th {\n",
       "        text-align: right;\n",
       "    }\n",
       "</style>\n",
       "<table border=\"1\" class=\"dataframe\">\n",
       "  <thead>\n",
       "    <tr style=\"text-align: right;\">\n",
       "      <th></th>\n",
       "      <th>id</th>\n",
       "      <th>road_type</th>\n",
       "      <th>num_lanes</th>\n",
       "      <th>curvature</th>\n",
       "      <th>speed_limit</th>\n",
       "      <th>lighting</th>\n",
       "      <th>weather</th>\n",
       "      <th>road_signs_present</th>\n",
       "      <th>public_road</th>\n",
       "      <th>time_of_day</th>\n",
       "      <th>holiday</th>\n",
       "      <th>school_season</th>\n",
       "      <th>num_reported_accidents</th>\n",
       "      <th>accident_risk</th>\n",
       "    </tr>\n",
       "  </thead>\n",
       "  <tbody>\n",
       "    <tr>\n",
       "      <th>0</th>\n",
       "      <td>0</td>\n",
       "      <td>urban</td>\n",
       "      <td>2</td>\n",
       "      <td>0.06</td>\n",
       "      <td>35</td>\n",
       "      <td>daylight</td>\n",
       "      <td>rainy</td>\n",
       "      <td>False</td>\n",
       "      <td>True</td>\n",
       "      <td>afternoon</td>\n",
       "      <td>False</td>\n",
       "      <td>True</td>\n",
       "      <td>1</td>\n",
       "      <td>0.13</td>\n",
       "    </tr>\n",
       "    <tr>\n",
       "      <th>1</th>\n",
       "      <td>1</td>\n",
       "      <td>urban</td>\n",
       "      <td>4</td>\n",
       "      <td>0.99</td>\n",
       "      <td>35</td>\n",
       "      <td>daylight</td>\n",
       "      <td>clear</td>\n",
       "      <td>True</td>\n",
       "      <td>False</td>\n",
       "      <td>evening</td>\n",
       "      <td>True</td>\n",
       "      <td>True</td>\n",
       "      <td>0</td>\n",
       "      <td>0.35</td>\n",
       "    </tr>\n",
       "    <tr>\n",
       "      <th>2</th>\n",
       "      <td>2</td>\n",
       "      <td>rural</td>\n",
       "      <td>4</td>\n",
       "      <td>0.63</td>\n",
       "      <td>70</td>\n",
       "      <td>dim</td>\n",
       "      <td>clear</td>\n",
       "      <td>False</td>\n",
       "      <td>True</td>\n",
       "      <td>morning</td>\n",
       "      <td>True</td>\n",
       "      <td>False</td>\n",
       "      <td>2</td>\n",
       "      <td>0.30</td>\n",
       "    </tr>\n",
       "    <tr>\n",
       "      <th>3</th>\n",
       "      <td>3</td>\n",
       "      <td>highway</td>\n",
       "      <td>4</td>\n",
       "      <td>0.07</td>\n",
       "      <td>35</td>\n",
       "      <td>dim</td>\n",
       "      <td>rainy</td>\n",
       "      <td>True</td>\n",
       "      <td>True</td>\n",
       "      <td>morning</td>\n",
       "      <td>False</td>\n",
       "      <td>False</td>\n",
       "      <td>1</td>\n",
       "      <td>0.21</td>\n",
       "    </tr>\n",
       "    <tr>\n",
       "      <th>4</th>\n",
       "      <td>4</td>\n",
       "      <td>rural</td>\n",
       "      <td>1</td>\n",
       "      <td>0.58</td>\n",
       "      <td>60</td>\n",
       "      <td>daylight</td>\n",
       "      <td>foggy</td>\n",
       "      <td>False</td>\n",
       "      <td>False</td>\n",
       "      <td>evening</td>\n",
       "      <td>True</td>\n",
       "      <td>False</td>\n",
       "      <td>1</td>\n",
       "      <td>0.56</td>\n",
       "    </tr>\n",
       "  </tbody>\n",
       "</table>\n",
       "</div>"
      ],
      "text/plain": [
       "   id road_type  num_lanes  curvature  speed_limit  lighting weather  \\\n",
       "0   0     urban          2       0.06           35  daylight   rainy   \n",
       "1   1     urban          4       0.99           35  daylight   clear   \n",
       "2   2     rural          4       0.63           70       dim   clear   \n",
       "3   3   highway          4       0.07           35       dim   rainy   \n",
       "4   4     rural          1       0.58           60  daylight   foggy   \n",
       "\n",
       "   road_signs_present  public_road time_of_day  holiday  school_season  \\\n",
       "0               False         True   afternoon    False           True   \n",
       "1                True        False     evening     True           True   \n",
       "2               False         True     morning     True          False   \n",
       "3                True         True     morning    False          False   \n",
       "4               False        False     evening     True          False   \n",
       "\n",
       "   num_reported_accidents  accident_risk  \n",
       "0                       1           0.13  \n",
       "1                       0           0.35  \n",
       "2                       2           0.30  \n",
       "3                       1           0.21  \n",
       "4                       1           0.56  "
      ]
     },
     "execution_count": 9,
     "metadata": {},
     "output_type": "execute_result"
    }
   ],
   "source": [
    "train = pd.read_csv(data_folder + \"train.csv\")\n",
    "X_train = pd.DataFrame(train.drop([\"accident_risk\", \"id\"], axis=1))\n",
    "train.head(5)"
   ]
  },
  {
   "cell_type": "code",
   "execution_count": 10,
   "id": "970ff826",
   "metadata": {},
   "outputs": [
    {
     "data": {
      "text/html": [
       "<div>\n",
       "<style scoped>\n",
       "    .dataframe tbody tr th:only-of-type {\n",
       "        vertical-align: middle;\n",
       "    }\n",
       "\n",
       "    .dataframe tbody tr th {\n",
       "        vertical-align: top;\n",
       "    }\n",
       "\n",
       "    .dataframe thead th {\n",
       "        text-align: right;\n",
       "    }\n",
       "</style>\n",
       "<table border=\"1\" class=\"dataframe\">\n",
       "  <thead>\n",
       "    <tr style=\"text-align: right;\">\n",
       "      <th></th>\n",
       "      <th>accident_risk</th>\n",
       "    </tr>\n",
       "  </thead>\n",
       "  <tbody>\n",
       "    <tr>\n",
       "      <th>0</th>\n",
       "      <td>0.13</td>\n",
       "    </tr>\n",
       "    <tr>\n",
       "      <th>1</th>\n",
       "      <td>0.35</td>\n",
       "    </tr>\n",
       "    <tr>\n",
       "      <th>2</th>\n",
       "      <td>0.30</td>\n",
       "    </tr>\n",
       "    <tr>\n",
       "      <th>3</th>\n",
       "      <td>0.21</td>\n",
       "    </tr>\n",
       "    <tr>\n",
       "      <th>4</th>\n",
       "      <td>0.56</td>\n",
       "    </tr>\n",
       "  </tbody>\n",
       "</table>\n",
       "</div>"
      ],
      "text/plain": [
       "   accident_risk\n",
       "0           0.13\n",
       "1           0.35\n",
       "2           0.30\n",
       "3           0.21\n",
       "4           0.56"
      ]
     },
     "execution_count": 10,
     "metadata": {},
     "output_type": "execute_result"
    }
   ],
   "source": [
    "y_train = pd.DataFrame(train[\"accident_risk\"].copy())\n",
    "\n",
    "y_train.head(5)"
   ]
  },
  {
   "cell_type": "code",
   "execution_count": 11,
   "id": "0d0b60f6",
   "metadata": {},
   "outputs": [
    {
     "data": {
      "text/plain": [
       "road_type                  object\n",
       "num_lanes                   int64\n",
       "curvature                 float64\n",
       "speed_limit                 int64\n",
       "lighting                   object\n",
       "weather                    object\n",
       "road_signs_present           bool\n",
       "public_road                  bool\n",
       "time_of_day                object\n",
       "holiday                      bool\n",
       "school_season                bool\n",
       "num_reported_accidents      int64\n",
       "dtype: object"
      ]
     },
     "execution_count": 11,
     "metadata": {},
     "output_type": "execute_result"
    }
   ],
   "source": [
    "X_train.dtypes"
   ]
  },
  {
   "cell_type": "markdown",
   "id": "bc770233",
   "metadata": {},
   "source": [
    "## Data analysis"
   ]
  },
  {
   "cell_type": "code",
   "execution_count": 12,
   "id": "01f22336",
   "metadata": {},
   "outputs": [
    {
     "data": {
      "image/png": "[encoded data removed]",
      "text/plain": [
       "<Figure size 2000x1000 with 1 Axes>"
      ]
     },
     "metadata": {},
     "output_type": "display_data"
    }
   ],
   "source": [
    "plt.figure(figsize=(20, 10))\n",
    "sns.histplot(y_train)\n",
    "plt.title('Repartition of the target for the training set')\n",
    "plt.savefig(f\"{plots_folder}Histplot_Ytrain.png\")"
   ]
  },
  {
   "cell_type": "markdown",
   "id": "3b369b36",
   "metadata": {},
   "source": [
    "## Train Preprocessing"
   ]
  },
  {
   "cell_type": "markdown",
   "id": "7ed975f8",
   "metadata": {},
   "source": [
    "### Missing values"
   ]
  },
  {
   "cell_type": "code",
   "execution_count": 13,
   "id": "a8458c6d",
   "metadata": {},
   "outputs": [
    {
     "data": {
      "text/plain": [
       "road_type                 0\n",
       "num_lanes                 0\n",
       "curvature                 0\n",
       "speed_limit               0\n",
       "lighting                  0\n",
       "weather                   0\n",
       "road_signs_present        0\n",
       "public_road               0\n",
       "time_of_day               0\n",
       "holiday                   0\n",
       "school_season             0\n",
       "num_reported_accidents    0\n",
       "dtype: int64"
      ]
     },
     "execution_count": 13,
     "metadata": {},
     "output_type": "execute_result"
    }
   ],
   "source": [
    "X_train.isna().sum()"
   ]
  },
  {
   "cell_type": "markdown",
   "id": "ad7852df",
   "metadata": {},
   "source": [
    "### Bool type processing"
   ]
  },
  {
   "cell_type": "markdown",
   "id": "7a760fe8",
   "metadata": {},
   "source": [
    "Bool data can be easily interpreted by integer (0 = False and 1 = True)"
   ]
  },
  {
   "cell_type": "code",
   "execution_count": 14,
   "id": "df7cb488",
   "metadata": {},
   "outputs": [
    {
     "data": {
      "text/plain": [
       "road_type                  object\n",
       "num_lanes                   int64\n",
       "curvature                 float64\n",
       "speed_limit                 int64\n",
       "lighting                   object\n",
       "weather                    object\n",
       "road_signs_present           bool\n",
       "public_road                  bool\n",
       "time_of_day                object\n",
       "holiday                      bool\n",
       "school_season                bool\n",
       "num_reported_accidents      int64\n",
       "dtype: object"
      ]
     },
     "execution_count": 14,
     "metadata": {},
     "output_type": "execute_result"
    }
   ],
   "source": [
    "SRP = X_train[\"road_signs_present\"].astype(int)\n",
    "PR = X_train[\"public_road\"].astype(int)\n",
    "H = X_train[\"holiday\"].astype(int)\n",
    "SS = X_train[\"school_season\"].astype(int)\n",
    "\n",
    "X_train.dtypes"
   ]
  },
  {
   "cell_type": "markdown",
   "id": "f68ec49d",
   "metadata": {},
   "source": [
    "### Object type processing"
   ]
  },
  {
   "cell_type": "code",
   "execution_count": 15,
   "id": "896c2ae6",
   "metadata": {},
   "outputs": [
    {
     "data": {
      "text/plain": [
       "Index(['road_type', 'lighting', 'weather', 'time_of_day'], dtype='object')"
      ]
     },
     "execution_count": 15,
     "metadata": {},
     "output_type": "execute_result"
    }
   ],
   "source": [
    "objType = X_train.select_dtypes(include=\"object\").columns\n",
    "\n",
    "objType"
   ]
  },
  {
   "cell_type": "markdown",
   "id": "5e539d7a",
   "metadata": {},
   "source": [
    "#### road_type"
   ]
  },
  {
   "cell_type": "code",
   "execution_count": 16,
   "id": "1f5fc1a9",
   "metadata": {},
   "outputs": [
    {
     "data": {
      "text/plain": [
       "array(['urban', 'rural', 'highway'], dtype=object)"
      ]
     },
     "execution_count": 16,
     "metadata": {},
     "output_type": "execute_result"
    }
   ],
   "source": [
    "X_train['road_type'].unique()"
   ]
  },
  {
   "cell_type": "markdown",
   "id": "b8ee6286",
   "metadata": {},
   "source": [
    "Only 3 value, we can encode them with Dummies variable without adding to much colunms."
   ]
  },
  {
   "cell_type": "code",
   "execution_count": 17,
   "id": "26fe28bc",
   "metadata": {},
   "outputs": [
    {
     "name": "stdout",
     "output_type": "stream",
     "text": [
      "True\n"
     ]
    },
    {
     "data": {
      "text/html": [
       "<div>\n",
       "<style scoped>\n",
       "    .dataframe tbody tr th:only-of-type {\n",
       "        vertical-align: middle;\n",
       "    }\n",
       "\n",
       "    .dataframe tbody tr th {\n",
       "        vertical-align: top;\n",
       "    }\n",
       "\n",
       "    .dataframe thead th {\n",
       "        text-align: right;\n",
       "    }\n",
       "</style>\n",
       "<table border=\"1\" class=\"dataframe\">\n",
       "  <thead>\n",
       "    <tr style=\"text-align: right;\">\n",
       "      <th></th>\n",
       "      <th>highway</th>\n",
       "      <th>rural</th>\n",
       "      <th>urban</th>\n",
       "    </tr>\n",
       "  </thead>\n",
       "  <tbody>\n",
       "    <tr>\n",
       "      <th>0</th>\n",
       "      <td>0</td>\n",
       "      <td>0</td>\n",
       "      <td>1</td>\n",
       "    </tr>\n",
       "    <tr>\n",
       "      <th>1</th>\n",
       "      <td>0</td>\n",
       "      <td>0</td>\n",
       "      <td>1</td>\n",
       "    </tr>\n",
       "    <tr>\n",
       "      <th>2</th>\n",
       "      <td>0</td>\n",
       "      <td>1</td>\n",
       "      <td>0</td>\n",
       "    </tr>\n",
       "    <tr>\n",
       "      <th>3</th>\n",
       "      <td>1</td>\n",
       "      <td>0</td>\n",
       "      <td>0</td>\n",
       "    </tr>\n",
       "    <tr>\n",
       "      <th>4</th>\n",
       "      <td>0</td>\n",
       "      <td>1</td>\n",
       "      <td>0</td>\n",
       "    </tr>\n",
       "  </tbody>\n",
       "</table>\n",
       "</div>"
      ],
      "text/plain": [
       "   highway  rural  urban\n",
       "0        0      0      1\n",
       "1        0      0      1\n",
       "2        0      1      0\n",
       "3        1      0      0\n",
       "4        0      1      0"
      ]
     },
     "execution_count": 17,
     "metadata": {},
     "output_type": "execute_result"
    }
   ],
   "source": [
    "RTdummies = pd.get_dummies(X_train['road_type']).astype(int)\n",
    "\n",
    "print(RTdummies.shape[0] == X_train.shape[0])\n",
    "\n",
    "RTdummies.head(5)"
   ]
  },
  {
   "cell_type": "markdown",
   "id": "e1990f35",
   "metadata": {},
   "source": [
    "#### lighting"
   ]
  },
  {
   "cell_type": "code",
   "execution_count": 18,
   "id": "931f6343",
   "metadata": {},
   "outputs": [
    {
     "data": {
      "text/plain": [
       "array(['daylight', 'dim', 'night'], dtype=object)"
      ]
     },
     "execution_count": 18,
     "metadata": {},
     "output_type": "execute_result"
    }
   ],
   "source": [
    "X_train['lighting'].unique()"
   ]
  },
  {
   "cell_type": "markdown",
   "id": "97e35313",
   "metadata": {},
   "source": [
    "Same processing as 'road_type'"
   ]
  },
  {
   "cell_type": "code",
   "execution_count": 19,
   "id": "9d29f1c4",
   "metadata": {},
   "outputs": [
    {
     "name": "stdout",
     "output_type": "stream",
     "text": [
      "True\n"
     ]
    },
    {
     "data": {
      "text/html": [
       "<div>\n",
       "<style scoped>\n",
       "    .dataframe tbody tr th:only-of-type {\n",
       "        vertical-align: middle;\n",
       "    }\n",
       "\n",
       "    .dataframe tbody tr th {\n",
       "        vertical-align: top;\n",
       "    }\n",
       "\n",
       "    .dataframe thead th {\n",
       "        text-align: right;\n",
       "    }\n",
       "</style>\n",
       "<table border=\"1\" class=\"dataframe\">\n",
       "  <thead>\n",
       "    <tr style=\"text-align: right;\">\n",
       "      <th></th>\n",
       "      <th>daylight</th>\n",
       "      <th>dim</th>\n",
       "      <th>night</th>\n",
       "    </tr>\n",
       "  </thead>\n",
       "  <tbody>\n",
       "    <tr>\n",
       "      <th>0</th>\n",
       "      <td>1</td>\n",
       "      <td>0</td>\n",
       "      <td>0</td>\n",
       "    </tr>\n",
       "    <tr>\n",
       "      <th>1</th>\n",
       "      <td>1</td>\n",
       "      <td>0</td>\n",
       "      <td>0</td>\n",
       "    </tr>\n",
       "    <tr>\n",
       "      <th>2</th>\n",
       "      <td>0</td>\n",
       "      <td>1</td>\n",
       "      <td>0</td>\n",
       "    </tr>\n",
       "    <tr>\n",
       "      <th>3</th>\n",
       "      <td>0</td>\n",
       "      <td>1</td>\n",
       "      <td>0</td>\n",
       "    </tr>\n",
       "    <tr>\n",
       "      <th>4</th>\n",
       "      <td>1</td>\n",
       "      <td>0</td>\n",
       "      <td>0</td>\n",
       "    </tr>\n",
       "  </tbody>\n",
       "</table>\n",
       "</div>"
      ],
      "text/plain": [
       "   daylight  dim  night\n",
       "0         1    0      0\n",
       "1         1    0      0\n",
       "2         0    1      0\n",
       "3         0    1      0\n",
       "4         1    0      0"
      ]
     },
     "execution_count": 19,
     "metadata": {},
     "output_type": "execute_result"
    }
   ],
   "source": [
    "Ldummies = pd.get_dummies(X_train['lighting']).astype(int)\n",
    "\n",
    "print(Ldummies.shape[0] == X_train.shape[0])\n",
    "\n",
    "Ldummies.head(5)"
   ]
  },
  {
   "cell_type": "markdown",
   "id": "b7293954",
   "metadata": {},
   "source": [
    "#### weather"
   ]
  },
  {
   "cell_type": "code",
   "execution_count": 20,
   "id": "8625a251",
   "metadata": {},
   "outputs": [
    {
     "data": {
      "text/plain": [
       "array(['rainy', 'clear', 'foggy'], dtype=object)"
      ]
     },
     "execution_count": 20,
     "metadata": {},
     "output_type": "execute_result"
    }
   ],
   "source": [
    "X_train['weather'].unique()"
   ]
  },
  {
   "cell_type": "markdown",
   "id": "308571fc",
   "metadata": {},
   "source": [
    "Same processing as 'road_type'"
   ]
  },
  {
   "cell_type": "code",
   "execution_count": 21,
   "id": "2fe050e6",
   "metadata": {},
   "outputs": [
    {
     "name": "stdout",
     "output_type": "stream",
     "text": [
      "True\n"
     ]
    },
    {
     "data": {
      "text/html": [
       "<div>\n",
       "<style scoped>\n",
       "    .dataframe tbody tr th:only-of-type {\n",
       "        vertical-align: middle;\n",
       "    }\n",
       "\n",
       "    .dataframe tbody tr th {\n",
       "        vertical-align: top;\n",
       "    }\n",
       "\n",
       "    .dataframe thead th {\n",
       "        text-align: right;\n",
       "    }\n",
       "</style>\n",
       "<table border=\"1\" class=\"dataframe\">\n",
       "  <thead>\n",
       "    <tr style=\"text-align: right;\">\n",
       "      <th></th>\n",
       "      <th>clear</th>\n",
       "      <th>foggy</th>\n",
       "      <th>rainy</th>\n",
       "    </tr>\n",
       "  </thead>\n",
       "  <tbody>\n",
       "    <tr>\n",
       "      <th>0</th>\n",
       "      <td>0</td>\n",
       "      <td>0</td>\n",
       "      <td>1</td>\n",
       "    </tr>\n",
       "    <tr>\n",
       "      <th>1</th>\n",
       "      <td>1</td>\n",
       "      <td>0</td>\n",
       "      <td>0</td>\n",
       "    </tr>\n",
       "    <tr>\n",
       "      <th>2</th>\n",
       "      <td>1</td>\n",
       "      <td>0</td>\n",
       "      <td>0</td>\n",
       "    </tr>\n",
       "    <tr>\n",
       "      <th>3</th>\n",
       "      <td>0</td>\n",
       "      <td>0</td>\n",
       "      <td>1</td>\n",
       "    </tr>\n",
       "    <tr>\n",
       "      <th>4</th>\n",
       "      <td>0</td>\n",
       "      <td>1</td>\n",
       "      <td>0</td>\n",
       "    </tr>\n",
       "  </tbody>\n",
       "</table>\n",
       "</div>"
      ],
      "text/plain": [
       "   clear  foggy  rainy\n",
       "0      0      0      1\n",
       "1      1      0      0\n",
       "2      1      0      0\n",
       "3      0      0      1\n",
       "4      0      1      0"
      ]
     },
     "execution_count": 21,
     "metadata": {},
     "output_type": "execute_result"
    }
   ],
   "source": [
    "Wdummies = pd.get_dummies(X_train['weather']).astype(int)\n",
    "\n",
    "print(Wdummies.shape[0] == X_train.shape[0])\n",
    "\n",
    "Wdummies.head(5)"
   ]
  },
  {
   "cell_type": "markdown",
   "id": "35e48d56",
   "metadata": {},
   "source": [
    "#### time_of_day"
   ]
  },
  {
   "cell_type": "code",
   "execution_count": 22,
   "id": "233c7194",
   "metadata": {},
   "outputs": [
    {
     "data": {
      "text/plain": [
       "array(['afternoon', 'evening', 'morning'], dtype=object)"
      ]
     },
     "execution_count": 22,
     "metadata": {},
     "output_type": "execute_result"
    }
   ],
   "source": [
    "X_train['time_of_day'].unique()"
   ]
  },
  {
   "cell_type": "markdown",
   "id": "e45db02e",
   "metadata": {},
   "source": [
    "Same processing as 'road_type'"
   ]
  },
  {
   "cell_type": "code",
   "execution_count": 23,
   "id": "412a2a61",
   "metadata": {},
   "outputs": [
    {
     "name": "stdout",
     "output_type": "stream",
     "text": [
      "True\n"
     ]
    },
    {
     "data": {
      "text/html": [
       "<div>\n",
       "<style scoped>\n",
       "    .dataframe tbody tr th:only-of-type {\n",
       "        vertical-align: middle;\n",
       "    }\n",
       "\n",
       "    .dataframe tbody tr th {\n",
       "        vertical-align: top;\n",
       "    }\n",
       "\n",
       "    .dataframe thead th {\n",
       "        text-align: right;\n",
       "    }\n",
       "</style>\n",
       "<table border=\"1\" class=\"dataframe\">\n",
       "  <thead>\n",
       "    <tr style=\"text-align: right;\">\n",
       "      <th></th>\n",
       "      <th>afternoon</th>\n",
       "      <th>evening</th>\n",
       "      <th>morning</th>\n",
       "    </tr>\n",
       "  </thead>\n",
       "  <tbody>\n",
       "    <tr>\n",
       "      <th>0</th>\n",
       "      <td>1</td>\n",
       "      <td>0</td>\n",
       "      <td>0</td>\n",
       "    </tr>\n",
       "    <tr>\n",
       "      <th>1</th>\n",
       "      <td>0</td>\n",
       "      <td>1</td>\n",
       "      <td>0</td>\n",
       "    </tr>\n",
       "    <tr>\n",
       "      <th>2</th>\n",
       "      <td>0</td>\n",
       "      <td>0</td>\n",
       "      <td>1</td>\n",
       "    </tr>\n",
       "    <tr>\n",
       "      <th>3</th>\n",
       "      <td>0</td>\n",
       "      <td>0</td>\n",
       "      <td>1</td>\n",
       "    </tr>\n",
       "    <tr>\n",
       "      <th>4</th>\n",
       "      <td>0</td>\n",
       "      <td>1</td>\n",
       "      <td>0</td>\n",
       "    </tr>\n",
       "  </tbody>\n",
       "</table>\n",
       "</div>"
      ],
      "text/plain": [
       "   afternoon  evening  morning\n",
       "0          1        0        0\n",
       "1          0        1        0\n",
       "2          0        0        1\n",
       "3          0        0        1\n",
       "4          0        1        0"
      ]
     },
     "execution_count": 23,
     "metadata": {},
     "output_type": "execute_result"
    }
   ],
   "source": [
    "TODdummies = pd.get_dummies(X_train['time_of_day']).astype(int)\n",
    "\n",
    "print(TODdummies.shape[0] == X_train.shape[0])\n",
    "\n",
    "TODdummies.head(5)"
   ]
  },
  {
   "cell_type": "markdown",
   "id": "f3e0dad0",
   "metadata": {},
   "source": [
    "### Concat"
   ]
  },
  {
   "cell_type": "code",
   "execution_count": 24,
   "id": "b559a016",
   "metadata": {},
   "outputs": [
    {
     "data": {
      "text/html": [
       "<div>\n",
       "<style scoped>\n",
       "    .dataframe tbody tr th:only-of-type {\n",
       "        vertical-align: middle;\n",
       "    }\n",
       "\n",
       "    .dataframe tbody tr th {\n",
       "        vertical-align: top;\n",
       "    }\n",
       "\n",
       "    .dataframe thead th {\n",
       "        text-align: right;\n",
       "    }\n",
       "</style>\n",
       "<table border=\"1\" class=\"dataframe\">\n",
       "  <thead>\n",
       "    <tr style=\"text-align: right;\">\n",
       "      <th></th>\n",
       "      <th>afternoon</th>\n",
       "      <th>evening</th>\n",
       "      <th>morning</th>\n",
       "      <th>clear</th>\n",
       "      <th>foggy</th>\n",
       "      <th>rainy</th>\n",
       "      <th>daylight</th>\n",
       "      <th>dim</th>\n",
       "      <th>night</th>\n",
       "      <th>highway</th>\n",
       "      <th>rural</th>\n",
       "      <th>urban</th>\n",
       "      <th>road_signs_present</th>\n",
       "      <th>public_road</th>\n",
       "      <th>holiday</th>\n",
       "      <th>school_season</th>\n",
       "      <th>num_lanes</th>\n",
       "      <th>curvature</th>\n",
       "      <th>speed_limit</th>\n",
       "      <th>num_reported_accidents</th>\n",
       "    </tr>\n",
       "  </thead>\n",
       "  <tbody>\n",
       "    <tr>\n",
       "      <th>0</th>\n",
       "      <td>1</td>\n",
       "      <td>0</td>\n",
       "      <td>0</td>\n",
       "      <td>0</td>\n",
       "      <td>0</td>\n",
       "      <td>1</td>\n",
       "      <td>1</td>\n",
       "      <td>0</td>\n",
       "      <td>0</td>\n",
       "      <td>0</td>\n",
       "      <td>0</td>\n",
       "      <td>1</td>\n",
       "      <td>0</td>\n",
       "      <td>1</td>\n",
       "      <td>0</td>\n",
       "      <td>1</td>\n",
       "      <td>2</td>\n",
       "      <td>0.06</td>\n",
       "      <td>35</td>\n",
       "      <td>1</td>\n",
       "    </tr>\n",
       "    <tr>\n",
       "      <th>1</th>\n",
       "      <td>0</td>\n",
       "      <td>1</td>\n",
       "      <td>0</td>\n",
       "      <td>1</td>\n",
       "      <td>0</td>\n",
       "      <td>0</td>\n",
       "      <td>1</td>\n",
       "      <td>0</td>\n",
       "      <td>0</td>\n",
       "      <td>0</td>\n",
       "      <td>0</td>\n",
       "      <td>1</td>\n",
       "      <td>1</td>\n",
       "      <td>0</td>\n",
       "      <td>1</td>\n",
       "      <td>1</td>\n",
       "      <td>4</td>\n",
       "      <td>0.99</td>\n",
       "      <td>35</td>\n",
       "      <td>0</td>\n",
       "    </tr>\n",
       "    <tr>\n",
       "      <th>2</th>\n",
       "      <td>0</td>\n",
       "      <td>0</td>\n",
       "      <td>1</td>\n",
       "      <td>1</td>\n",
       "      <td>0</td>\n",
       "      <td>0</td>\n",
       "      <td>0</td>\n",
       "      <td>1</td>\n",
       "      <td>0</td>\n",
       "      <td>0</td>\n",
       "      <td>1</td>\n",
       "      <td>0</td>\n",
       "      <td>0</td>\n",
       "      <td>1</td>\n",
       "      <td>1</td>\n",
       "      <td>0</td>\n",
       "      <td>4</td>\n",
       "      <td>0.63</td>\n",
       "      <td>70</td>\n",
       "      <td>2</td>\n",
       "    </tr>\n",
       "    <tr>\n",
       "      <th>3</th>\n",
       "      <td>0</td>\n",
       "      <td>0</td>\n",
       "      <td>1</td>\n",
       "      <td>0</td>\n",
       "      <td>0</td>\n",
       "      <td>1</td>\n",
       "      <td>0</td>\n",
       "      <td>1</td>\n",
       "      <td>0</td>\n",
       "      <td>1</td>\n",
       "      <td>0</td>\n",
       "      <td>0</td>\n",
       "      <td>1</td>\n",
       "      <td>1</td>\n",
       "      <td>0</td>\n",
       "      <td>0</td>\n",
       "      <td>4</td>\n",
       "      <td>0.07</td>\n",
       "      <td>35</td>\n",
       "      <td>1</td>\n",
       "    </tr>\n",
       "    <tr>\n",
       "      <th>4</th>\n",
       "      <td>0</td>\n",
       "      <td>1</td>\n",
       "      <td>0</td>\n",
       "      <td>0</td>\n",
       "      <td>1</td>\n",
       "      <td>0</td>\n",
       "      <td>1</td>\n",
       "      <td>0</td>\n",
       "      <td>0</td>\n",
       "      <td>0</td>\n",
       "      <td>1</td>\n",
       "      <td>0</td>\n",
       "      <td>0</td>\n",
       "      <td>0</td>\n",
       "      <td>1</td>\n",
       "      <td>0</td>\n",
       "      <td>1</td>\n",
       "      <td>0.58</td>\n",
       "      <td>60</td>\n",
       "      <td>1</td>\n",
       "    </tr>\n",
       "  </tbody>\n",
       "</table>\n",
       "</div>"
      ],
      "text/plain": [
       "   afternoon  evening  morning  clear  foggy  rainy  daylight  dim  night  \\\n",
       "0          1        0        0      0      0      1         1    0      0   \n",
       "1          0        1        0      1      0      0         1    0      0   \n",
       "2          0        0        1      1      0      0         0    1      0   \n",
       "3          0        0        1      0      0      1         0    1      0   \n",
       "4          0        1        0      0      1      0         1    0      0   \n",
       "\n",
       "   highway  rural  urban  road_signs_present  public_road  holiday  \\\n",
       "0        0      0      1                   0            1        0   \n",
       "1        0      0      1                   1            0        1   \n",
       "2        0      1      0                   0            1        1   \n",
       "3        1      0      0                   1            1        0   \n",
       "4        0      1      0                   0            0        1   \n",
       "\n",
       "   school_season  num_lanes  curvature  speed_limit  num_reported_accidents  \n",
       "0              1          2       0.06           35                       1  \n",
       "1              1          4       0.99           35                       0  \n",
       "2              0          4       0.63           70                       2  \n",
       "3              0          4       0.07           35                       1  \n",
       "4              0          1       0.58           60                       1  "
      ]
     },
     "execution_count": 24,
     "metadata": {},
     "output_type": "execute_result"
    }
   ],
   "source": [
    "XTotal = pd.concat([TODdummies, Wdummies, Ldummies, RTdummies, \n",
    "                    SRP, PR, H, SS, \n",
    "                    X_train['num_lanes'], X_train['curvature'], X_train['speed_limit'], X_train['num_reported_accidents']]\n",
    "                    , axis=1)\n",
    "\n",
    "XTotal.head(5)"
   ]
  },
  {
   "cell_type": "code",
   "execution_count": 25,
   "id": "e5bbdb15",
   "metadata": {},
   "outputs": [
    {
     "name": "stdout",
     "output_type": "stream",
     "text": [
      "True\n"
     ]
    }
   ],
   "source": [
    "print(X_train.shape[0] == XTotal.shape[0])"
   ]
  },
  {
   "cell_type": "markdown",
   "id": "8bd8effd",
   "metadata": {},
   "source": [
    "### Scaler"
   ]
  },
  {
   "cell_type": "code",
   "execution_count": 26,
   "id": "979ceb87",
   "metadata": {},
   "outputs": [
    {
     "data": {
      "text/html": [
       "<div>\n",
       "<style scoped>\n",
       "    .dataframe tbody tr th:only-of-type {\n",
       "        vertical-align: middle;\n",
       "    }\n",
       "\n",
       "    .dataframe tbody tr th {\n",
       "        vertical-align: top;\n",
       "    }\n",
       "\n",
       "    .dataframe thead th {\n",
       "        text-align: right;\n",
       "    }\n",
       "</style>\n",
       "<table border=\"1\" class=\"dataframe\">\n",
       "  <thead>\n",
       "    <tr style=\"text-align: right;\">\n",
       "      <th></th>\n",
       "      <th>afternoon</th>\n",
       "      <th>evening</th>\n",
       "      <th>morning</th>\n",
       "      <th>clear</th>\n",
       "      <th>foggy</th>\n",
       "      <th>rainy</th>\n",
       "      <th>daylight</th>\n",
       "      <th>dim</th>\n",
       "      <th>night</th>\n",
       "      <th>highway</th>\n",
       "      <th>rural</th>\n",
       "      <th>urban</th>\n",
       "      <th>road_signs_present</th>\n",
       "      <th>public_road</th>\n",
       "      <th>holiday</th>\n",
       "      <th>school_season</th>\n",
       "      <th>num_lanes</th>\n",
       "      <th>curvature</th>\n",
       "      <th>speed_limit</th>\n",
       "      <th>num_reported_accidents</th>\n",
       "    </tr>\n",
       "  </thead>\n",
       "  <tbody>\n",
       "    <tr>\n",
       "      <th>0</th>\n",
       "      <td>1.420863</td>\n",
       "      <td>-0.707882</td>\n",
       "      <td>-0.709644</td>\n",
       "      <td>-0.727866</td>\n",
       "      <td>-0.734575</td>\n",
       "      <td>1.515952</td>\n",
       "      <td>1.381479</td>\n",
       "      <td>-0.741954</td>\n",
       "      <td>-0.656421</td>\n",
       "      <td>-0.710451</td>\n",
       "      <td>-0.707520</td>\n",
       "      <td>1.421755</td>\n",
       "      <td>-0.998410</td>\n",
       "      <td>0.995498</td>\n",
       "      <td>-1.007020</td>\n",
       "      <td>1.004984</td>\n",
       "      <td>-0.438680</td>\n",
       "      <td>-1.572918</td>\n",
       "      <td>-0.703840</td>\n",
       "      <td>-0.209797</td>\n",
       "    </tr>\n",
       "    <tr>\n",
       "      <th>1</th>\n",
       "      <td>-0.703798</td>\n",
       "      <td>1.412664</td>\n",
       "      <td>-0.709644</td>\n",
       "      <td>1.373879</td>\n",
       "      <td>-0.734575</td>\n",
       "      <td>-0.659651</td>\n",
       "      <td>1.381479</td>\n",
       "      <td>-0.741954</td>\n",
       "      <td>-0.656421</td>\n",
       "      <td>-0.710451</td>\n",
       "      <td>-0.707520</td>\n",
       "      <td>1.421755</td>\n",
       "      <td>1.001593</td>\n",
       "      <td>-1.004522</td>\n",
       "      <td>0.993029</td>\n",
       "      <td>1.004984</td>\n",
       "      <td>1.346344</td>\n",
       "      <td>1.839137</td>\n",
       "      <td>-0.703840</td>\n",
       "      <td>-1.325918</td>\n",
       "    </tr>\n",
       "    <tr>\n",
       "      <th>2</th>\n",
       "      <td>-0.703798</td>\n",
       "      <td>-0.707882</td>\n",
       "      <td>1.409156</td>\n",
       "      <td>1.373879</td>\n",
       "      <td>-0.734575</td>\n",
       "      <td>-0.659651</td>\n",
       "      <td>-0.723862</td>\n",
       "      <td>1.347792</td>\n",
       "      <td>-0.656421</td>\n",
       "      <td>-0.710451</td>\n",
       "      <td>1.413388</td>\n",
       "      <td>-0.703356</td>\n",
       "      <td>-0.998410</td>\n",
       "      <td>0.995498</td>\n",
       "      <td>0.993029</td>\n",
       "      <td>-0.995041</td>\n",
       "      <td>1.346344</td>\n",
       "      <td>0.518342</td>\n",
       "      <td>1.512963</td>\n",
       "      <td>0.906324</td>\n",
       "    </tr>\n",
       "    <tr>\n",
       "      <th>3</th>\n",
       "      <td>-0.703798</td>\n",
       "      <td>-0.707882</td>\n",
       "      <td>1.409156</td>\n",
       "      <td>-0.727866</td>\n",
       "      <td>-0.734575</td>\n",
       "      <td>1.515952</td>\n",
       "      <td>-0.723862</td>\n",
       "      <td>1.347792</td>\n",
       "      <td>-0.656421</td>\n",
       "      <td>1.407557</td>\n",
       "      <td>-0.707520</td>\n",
       "      <td>-0.703356</td>\n",
       "      <td>1.001593</td>\n",
       "      <td>0.995498</td>\n",
       "      <td>-1.007020</td>\n",
       "      <td>-0.995041</td>\n",
       "      <td>1.346344</td>\n",
       "      <td>-1.536229</td>\n",
       "      <td>-0.703840</td>\n",
       "      <td>-0.209797</td>\n",
       "    </tr>\n",
       "    <tr>\n",
       "      <th>4</th>\n",
       "      <td>-0.703798</td>\n",
       "      <td>1.412664</td>\n",
       "      <td>-0.709644</td>\n",
       "      <td>-0.727866</td>\n",
       "      <td>1.361331</td>\n",
       "      <td>-0.659651</td>\n",
       "      <td>1.381479</td>\n",
       "      <td>-0.741954</td>\n",
       "      <td>-0.656421</td>\n",
       "      <td>-0.710451</td>\n",
       "      <td>1.413388</td>\n",
       "      <td>-0.703356</td>\n",
       "      <td>-0.998410</td>\n",
       "      <td>-1.004522</td>\n",
       "      <td>0.993029</td>\n",
       "      <td>-0.995041</td>\n",
       "      <td>-1.331192</td>\n",
       "      <td>0.334898</td>\n",
       "      <td>0.879591</td>\n",
       "      <td>-0.209797</td>\n",
       "    </tr>\n",
       "  </tbody>\n",
       "</table>\n",
       "</div>"
      ],
      "text/plain": [
       "   afternoon   evening   morning     clear     foggy     rainy  daylight  \\\n",
       "0   1.420863 -0.707882 -0.709644 -0.727866 -0.734575  1.515952  1.381479   \n",
       "1  -0.703798  1.412664 -0.709644  1.373879 -0.734575 -0.659651  1.381479   \n",
       "2  -0.703798 -0.707882  1.409156  1.373879 -0.734575 -0.659651 -0.723862   \n",
       "3  -0.703798 -0.707882  1.409156 -0.727866 -0.734575  1.515952 -0.723862   \n",
       "4  -0.703798  1.412664 -0.709644 -0.727866  1.361331 -0.659651  1.381479   \n",
       "\n",
       "        dim     night   highway     rural     urban  road_signs_present  \\\n",
       "0 -0.741954 -0.656421 -0.710451 -0.707520  1.421755           -0.998410   \n",
       "1 -0.741954 -0.656421 -0.710451 -0.707520  1.421755            1.001593   \n",
       "2  1.347792 -0.656421 -0.710451  1.413388 -0.703356           -0.998410   \n",
       "3  1.347792 -0.656421  1.407557 -0.707520 -0.703356            1.001593   \n",
       "4 -0.741954 -0.656421 -0.710451  1.413388 -0.703356           -0.998410   \n",
       "\n",
       "   public_road   holiday  school_season  num_lanes  curvature  speed_limit  \\\n",
       "0     0.995498 -1.007020       1.004984  -0.438680  -1.572918    -0.703840   \n",
       "1    -1.004522  0.993029       1.004984   1.346344   1.839137    -0.703840   \n",
       "2     0.995498  0.993029      -0.995041   1.346344   0.518342     1.512963   \n",
       "3     0.995498 -1.007020      -0.995041   1.346344  -1.536229    -0.703840   \n",
       "4    -1.004522  0.993029      -0.995041  -1.331192   0.334898     0.879591   \n",
       "\n",
       "   num_reported_accidents  \n",
       "0               -0.209797  \n",
       "1               -1.325918  \n",
       "2                0.906324  \n",
       "3               -0.209797  \n",
       "4               -0.209797  "
      ]
     },
     "execution_count": 26,
     "metadata": {},
     "output_type": "execute_result"
    }
   ],
   "source": [
    "#\"\"\"\n",
    "scaler = StandardScaler()\n",
    "#scaler.fit(XTotal)\n",
    "#XTotal = pd.DataFrame(scaler.transform(XTotal))\n",
    "\n",
    "for i in XTotal.select_dtypes(include=np.number).columns.tolist():\n",
    "    XTotal[i]=scaler.fit_transform(XTotal[[i]])\n",
    "\n",
    "XTotal.head(5)\n",
    "#\"\"\""
   ]
  },
  {
   "cell_type": "markdown",
   "id": "c654b7b9",
   "metadata": {},
   "source": [
    "## Model testing"
   ]
  },
  {
   "cell_type": "markdown",
   "id": "72aa6797",
   "metadata": {},
   "source": [
    "### KNN Regressor"
   ]
  },
  {
   "cell_type": "code",
   "execution_count": 27,
   "id": "fa30c243",
   "metadata": {},
   "outputs": [],
   "source": [
    "knn_grid_params = {\n",
    "    'n_neighbors': [3, 5, 7, 9, 11, 15, 20],\n",
    "    'weights': ['uniform', 'distance'],\n",
    "    'algorithm': ['auto', 'ball_tree', 'kd_tree', 'brute'],\n",
    "    'leaf_size': [10, 20, 30, 40, 50],\n",
    "    'p': [1, 2]\n",
    "}\n",
    "\n",
    "lasso_grid_params = {\n",
    "    'eps': [0.0001, 0.0005, 0.001, 0.005, 0.01],  # Valeurs de l'hyperparamètre epsilon\n",
    "    'n_alphas': [10, 100, 200, 300, 400, 500],  # Nombre de valeurs d'alpha à tester\n",
    "    'cv': [3, 4, 5, 6, 7, 8, 9, 10],  # Nombre de folds pour la validation croisée\n",
    "}"
   ]
  },
  {
   "cell_type": "code",
   "execution_count": 28,
   "id": "6f5bbc82",
   "metadata": {},
   "outputs": [],
   "source": [
    "from sklearn.compose import ColumnTransformer\n",
    "from sklearn.impute import SimpleImputer\n",
    "from sklearn.model_selection import RandomizedSearchCV\n",
    "from sklearn.preprocessing import OneHotEncoder, OrdinalEncoder\n",
    "\n",
    "selected_features = XTotal.columns.to_list()\n",
    "\n",
    "\n",
    "def get_params(X_train, y_train, model, grid_params):\n",
    "    estimator = RandomizedSearchCV(model, grid_params, cv=5, n_iter=1, verbose=1, scoring='neg_mean_squared_error')\n",
    "    estimator.fit(X_train, y_train)\n",
    "    print(estimator.get_params()['model'].best_params_)\n",
    "    return estimator.get_params()['model'].best_params_"
   ]
  },
  {
   "cell_type": "code",
   "execution_count": 30,
   "id": "df1c6070",
   "metadata": {},
   "outputs": [],
   "source": [
    "#knn_params = get_params(XTotal, y_train, KNeighborsRegressor(), knn_grid_params)\n",
    "#lasso_params = get_params(XTotal, y_train, LassoCV(), lasso_grid_params)"
   ]
  },
  {
   "cell_type": "markdown",
   "id": "2a8ff12e",
   "metadata": {},
   "source": [
    "Result for KNN : {'weights': 'uniform', 'p': 1, 'n_neighbors': 3, 'leaf_size': 10, 'algorithm': 'brute'}"
   ]
  },
  {
   "cell_type": "code",
   "execution_count": null,
   "id": "967282a3",
   "metadata": {},
   "outputs": [
    {
     "name": "stderr",
     "output_type": "stream",
     "text": [
      "C:\\Users\\xavie\\AppData\\Local\\Packages\\PythonSoftwareFoundation.Python.3.10_qbz5n2kfra8p0\\LocalCache\\local-packages\\Python310\\site-packages\\sklearn\\ensemble\\_stacking.py:967: DataConversionWarning: A column-vector y was passed when a 1d array was expected. Please change the shape of y to (n_samples, ), for example using ravel().\n",
      "  y = column_or_1d(y, warn=True)\n"
     ]
    }
   ],
   "source": [
    "knn_params = {'weights': 'uniform', 'p': 1, 'n_neighbors': 3, 'leaf_size': 10, 'algorithm': 'brute'}\n",
    "\n",
    "estimators = [\n",
    "    ('lasso', LinearRegression()),\n",
    "    ('knn', KNeighborsRegressor(**knn_params)),\n",
    "]\n",
    "model = StackingRegressor(estimators=estimators, final_estimator=RidgeCV(cv=5))\n",
    "model.fit(XTotal, y_train)"
   ]
  },
  {
   "cell_type": "markdown",
   "id": "728e41ab",
   "metadata": {},
   "source": [
    "## Model fitting"
   ]
  },
  {
   "cell_type": "code",
   "execution_count": 123,
   "id": "8a194eb1",
   "metadata": {},
   "outputs": [
    {
     "data": {
      "text/plain": [
       "'\\nestimators = [\\n    (\"knn\", KNeighborsRegressor(n_neighbors=10)),\\n    (\"lr\", LinearRegression())\\n]\\nmodel = StackingRegressor(estimators=estimators, final_estimator=RidgeCV(cv=5))\\nmodel.fit(XTotal, y_train)\\n'"
      ]
     },
     "execution_count": 123,
     "metadata": {},
     "output_type": "execute_result"
    }
   ],
   "source": [
    "'''\n",
    "estimators = [\n",
    "    (\"knn\", KNeighborsRegressor(n_neighbors=10)),\n",
    "    (\"lr\", LinearRegression())\n",
    "]\n",
    "model = StackingRegressor(estimators=estimators, final_estimator=RidgeCV(cv=5))\n",
    "model.fit(XTotal, y_train)\n",
    "'''"
   ]
  },
  {
   "cell_type": "markdown",
   "id": "beedd82f",
   "metadata": {},
   "source": [
    "### Root mean square error"
   ]
  },
  {
   "cell_type": "code",
   "execution_count": 2,
   "id": "3a9a6f9d",
   "metadata": {},
   "outputs": [],
   "source": [
    "if(CheckRMSE):\n",
    "    predTrain = model.predict(XTotal)\n",
    "    RMSE =  np.sqrt(np.mean( (predTrain - y_train)**2))\n",
    "    RMSE\n"
   ]
  },
  {
   "cell_type": "markdown",
   "id": "7913a384",
   "metadata": {},
   "source": [
    "## Test Preprocessing"
   ]
  },
  {
   "cell_type": "code",
   "execution_count": null,
   "id": "9e8c6dc8",
   "metadata": {},
   "outputs": [
    {
     "data": {
      "text/html": [
       "<div>\n",
       "<style scoped>\n",
       "    .dataframe tbody tr th:only-of-type {\n",
       "        vertical-align: middle;\n",
       "    }\n",
       "\n",
       "    .dataframe tbody tr th {\n",
       "        vertical-align: top;\n",
       "    }\n",
       "\n",
       "    .dataframe thead th {\n",
       "        text-align: right;\n",
       "    }\n",
       "</style>\n",
       "<table border=\"1\" class=\"dataframe\">\n",
       "  <thead>\n",
       "    <tr style=\"text-align: right;\">\n",
       "      <th></th>\n",
       "      <th>road_type</th>\n",
       "      <th>num_lanes</th>\n",
       "      <th>curvature</th>\n",
       "      <th>speed_limit</th>\n",
       "      <th>lighting</th>\n",
       "      <th>weather</th>\n",
       "      <th>road_signs_present</th>\n",
       "      <th>public_road</th>\n",
       "      <th>time_of_day</th>\n",
       "      <th>holiday</th>\n",
       "      <th>school_season</th>\n",
       "      <th>num_reported_accidents</th>\n",
       "    </tr>\n",
       "  </thead>\n",
       "  <tbody>\n",
       "    <tr>\n",
       "      <th>0</th>\n",
       "      <td>highway</td>\n",
       "      <td>2</td>\n",
       "      <td>0.34</td>\n",
       "      <td>45</td>\n",
       "      <td>night</td>\n",
       "      <td>clear</td>\n",
       "      <td>True</td>\n",
       "      <td>True</td>\n",
       "      <td>afternoon</td>\n",
       "      <td>True</td>\n",
       "      <td>True</td>\n",
       "      <td>1</td>\n",
       "    </tr>\n",
       "    <tr>\n",
       "      <th>1</th>\n",
       "      <td>urban</td>\n",
       "      <td>3</td>\n",
       "      <td>0.04</td>\n",
       "      <td>45</td>\n",
       "      <td>dim</td>\n",
       "      <td>foggy</td>\n",
       "      <td>True</td>\n",
       "      <td>False</td>\n",
       "      <td>afternoon</td>\n",
       "      <td>True</td>\n",
       "      <td>False</td>\n",
       "      <td>0</td>\n",
       "    </tr>\n",
       "    <tr>\n",
       "      <th>2</th>\n",
       "      <td>urban</td>\n",
       "      <td>2</td>\n",
       "      <td>0.59</td>\n",
       "      <td>35</td>\n",
       "      <td>dim</td>\n",
       "      <td>clear</td>\n",
       "      <td>True</td>\n",
       "      <td>False</td>\n",
       "      <td>afternoon</td>\n",
       "      <td>True</td>\n",
       "      <td>True</td>\n",
       "      <td>1</td>\n",
       "    </tr>\n",
       "    <tr>\n",
       "      <th>3</th>\n",
       "      <td>rural</td>\n",
       "      <td>4</td>\n",
       "      <td>0.95</td>\n",
       "      <td>35</td>\n",
       "      <td>daylight</td>\n",
       "      <td>rainy</td>\n",
       "      <td>False</td>\n",
       "      <td>False</td>\n",
       "      <td>afternoon</td>\n",
       "      <td>False</td>\n",
       "      <td>False</td>\n",
       "      <td>2</td>\n",
       "    </tr>\n",
       "    <tr>\n",
       "      <th>4</th>\n",
       "      <td>highway</td>\n",
       "      <td>2</td>\n",
       "      <td>0.86</td>\n",
       "      <td>35</td>\n",
       "      <td>daylight</td>\n",
       "      <td>clear</td>\n",
       "      <td>True</td>\n",
       "      <td>False</td>\n",
       "      <td>evening</td>\n",
       "      <td>False</td>\n",
       "      <td>True</td>\n",
       "      <td>3</td>\n",
       "    </tr>\n",
       "  </tbody>\n",
       "</table>\n",
       "</div>"
      ],
      "text/plain": [
       "  road_type  num_lanes  ...  school_season  num_reported_accidents\n",
       "0   highway          2  ...           True                       1\n",
       "1     urban          3  ...          False                       0\n",
       "2     urban          2  ...           True                       1\n",
       "3     rural          4  ...          False                       2\n",
       "4   highway          2  ...           True                       3\n",
       "\n",
       "[5 rows x 12 columns]"
      ]
     },
     "execution_count": 23,
     "metadata": {},
     "output_type": "execute_result"
    }
   ],
   "source": [
    "test = pd.read_csv(data_folder + \"test.csv\")\n",
    "id = test[\"id\"]\n",
    "test = test.drop(\"id\", axis=1)\n",
    "test.head(5)"
   ]
  },
  {
   "cell_type": "markdown",
   "id": "18ded399",
   "metadata": {},
   "source": [
    "### Missing value"
   ]
  },
  {
   "cell_type": "code",
   "execution_count": null,
   "id": "6ce7e8b3",
   "metadata": {},
   "outputs": [
    {
     "data": {
      "text/plain": [
       "road_type                 0\n",
       "num_lanes                 0\n",
       "curvature                 0\n",
       "speed_limit               0\n",
       "lighting                  0\n",
       "weather                   0\n",
       "road_signs_present        0\n",
       "public_road               0\n",
       "time_of_day               0\n",
       "holiday                   0\n",
       "school_season             0\n",
       "num_reported_accidents    0\n",
       "dtype: int64"
      ]
     },
     "execution_count": 24,
     "metadata": {},
     "output_type": "execute_result"
    }
   ],
   "source": [
    "test.isna().sum()"
   ]
  },
  {
   "cell_type": "markdown",
   "id": "a8c2ad88",
   "metadata": {},
   "source": [
    "### Bool type processing"
   ]
  },
  {
   "cell_type": "code",
   "execution_count": null,
   "id": "6d97c031",
   "metadata": {},
   "outputs": [],
   "source": [
    "SRP = test[\"road_signs_present\"].astype(int)\n",
    "PR = test[\"public_road\"].astype(int)\n",
    "H = test[\"holiday\"].astype(int)\n",
    "SS = test[\"school_season\"].astype(int)"
   ]
  },
  {
   "cell_type": "markdown",
   "id": "3f1daf84",
   "metadata": {},
   "source": [
    "### Object type processing"
   ]
  },
  {
   "cell_type": "code",
   "execution_count": null,
   "id": "74e69632",
   "metadata": {},
   "outputs": [],
   "source": [
    "RTdummies = pd.get_dummies(test['road_type']).astype(int)\n",
    "Ldummies = pd.get_dummies(test['lighting']).astype(int)\n",
    "Wdummies = pd.get_dummies(test['weather']).astype(int)\n",
    "TODdummies = pd.get_dummies(test['time_of_day']).astype(int)"
   ]
  },
  {
   "cell_type": "markdown",
   "id": "3fbe2c3a",
   "metadata": {},
   "source": [
    "### Concat"
   ]
  },
  {
   "cell_type": "code",
   "execution_count": null,
   "id": "d84b143a",
   "metadata": {},
   "outputs": [
    {
     "data": {
      "text/plain": [
       "afternoon                 0\n",
       "evening                   0\n",
       "morning                   0\n",
       "clear                     0\n",
       "foggy                     0\n",
       "rainy                     0\n",
       "daylight                  0\n",
       "dim                       0\n",
       "night                     0\n",
       "highway                   0\n",
       "rural                     0\n",
       "urban                     0\n",
       "road_signs_present        0\n",
       "public_road               0\n",
       "holiday                   0\n",
       "school_season             0\n",
       "num_lanes                 0\n",
       "curvature                 0\n",
       "speed_limit               0\n",
       "num_reported_accidents    0\n",
       "dtype: int64"
      ]
     },
     "execution_count": 27,
     "metadata": {},
     "output_type": "execute_result"
    }
   ],
   "source": [
    "test = pd.concat([TODdummies, Wdummies, Ldummies, RTdummies, \n",
    "                    SRP, PR, H, SS, \n",
    "                    test['num_lanes'], test['curvature'], test['speed_limit'], test['num_reported_accidents']]\n",
    "                    , axis=1)\n",
    "\n",
    "test.isna().sum()"
   ]
  },
  {
   "cell_type": "markdown",
   "id": "8cb4e719",
   "metadata": {},
   "source": [
    "### Scaler"
   ]
  },
  {
   "cell_type": "code",
   "execution_count": null,
   "id": "c1c65222",
   "metadata": {},
   "outputs": [
    {
     "data": {
      "text/html": [
       "<div>\n",
       "<style scoped>\n",
       "    .dataframe tbody tr th:only-of-type {\n",
       "        vertical-align: middle;\n",
       "    }\n",
       "\n",
       "    .dataframe tbody tr th {\n",
       "        vertical-align: top;\n",
       "    }\n",
       "\n",
       "    .dataframe thead th {\n",
       "        text-align: right;\n",
       "    }\n",
       "</style>\n",
       "<table border=\"1\" class=\"dataframe\">\n",
       "  <thead>\n",
       "    <tr style=\"text-align: right;\">\n",
       "      <th></th>\n",
       "      <th>afternoon</th>\n",
       "      <th>evening</th>\n",
       "      <th>morning</th>\n",
       "      <th>clear</th>\n",
       "      <th>foggy</th>\n",
       "      <th>rainy</th>\n",
       "      <th>daylight</th>\n",
       "      <th>dim</th>\n",
       "      <th>night</th>\n",
       "      <th>highway</th>\n",
       "      <th>rural</th>\n",
       "      <th>urban</th>\n",
       "      <th>road_signs_present</th>\n",
       "      <th>public_road</th>\n",
       "      <th>holiday</th>\n",
       "      <th>school_season</th>\n",
       "      <th>num_lanes</th>\n",
       "      <th>curvature</th>\n",
       "      <th>speed_limit</th>\n",
       "      <th>num_reported_accidents</th>\n",
       "    </tr>\n",
       "  </thead>\n",
       "  <tbody>\n",
       "    <tr>\n",
       "      <th>0</th>\n",
       "      <td>1</td>\n",
       "      <td>0</td>\n",
       "      <td>0</td>\n",
       "      <td>1</td>\n",
       "      <td>0</td>\n",
       "      <td>0</td>\n",
       "      <td>0</td>\n",
       "      <td>0</td>\n",
       "      <td>1</td>\n",
       "      <td>1</td>\n",
       "      <td>0</td>\n",
       "      <td>0</td>\n",
       "      <td>1</td>\n",
       "      <td>1</td>\n",
       "      <td>1</td>\n",
       "      <td>1</td>\n",
       "      <td>-0.438680</td>\n",
       "      <td>-0.545632</td>\n",
       "      <td>-0.070467</td>\n",
       "      <td>-0.209797</td>\n",
       "    </tr>\n",
       "    <tr>\n",
       "      <th>1</th>\n",
       "      <td>1</td>\n",
       "      <td>0</td>\n",
       "      <td>0</td>\n",
       "      <td>0</td>\n",
       "      <td>1</td>\n",
       "      <td>0</td>\n",
       "      <td>0</td>\n",
       "      <td>1</td>\n",
       "      <td>0</td>\n",
       "      <td>0</td>\n",
       "      <td>0</td>\n",
       "      <td>1</td>\n",
       "      <td>1</td>\n",
       "      <td>0</td>\n",
       "      <td>1</td>\n",
       "      <td>0</td>\n",
       "      <td>0.453832</td>\n",
       "      <td>-1.646295</td>\n",
       "      <td>-0.070467</td>\n",
       "      <td>-1.325918</td>\n",
       "    </tr>\n",
       "    <tr>\n",
       "      <th>2</th>\n",
       "      <td>1</td>\n",
       "      <td>0</td>\n",
       "      <td>0</td>\n",
       "      <td>1</td>\n",
       "      <td>0</td>\n",
       "      <td>0</td>\n",
       "      <td>0</td>\n",
       "      <td>1</td>\n",
       "      <td>0</td>\n",
       "      <td>0</td>\n",
       "      <td>0</td>\n",
       "      <td>1</td>\n",
       "      <td>1</td>\n",
       "      <td>0</td>\n",
       "      <td>1</td>\n",
       "      <td>1</td>\n",
       "      <td>-0.438680</td>\n",
       "      <td>0.371587</td>\n",
       "      <td>-0.703840</td>\n",
       "      <td>-0.209797</td>\n",
       "    </tr>\n",
       "    <tr>\n",
       "      <th>3</th>\n",
       "      <td>1</td>\n",
       "      <td>0</td>\n",
       "      <td>0</td>\n",
       "      <td>0</td>\n",
       "      <td>0</td>\n",
       "      <td>1</td>\n",
       "      <td>1</td>\n",
       "      <td>0</td>\n",
       "      <td>0</td>\n",
       "      <td>0</td>\n",
       "      <td>1</td>\n",
       "      <td>0</td>\n",
       "      <td>0</td>\n",
       "      <td>0</td>\n",
       "      <td>0</td>\n",
       "      <td>0</td>\n",
       "      <td>1.346344</td>\n",
       "      <td>1.692382</td>\n",
       "      <td>-0.703840</td>\n",
       "      <td>0.906324</td>\n",
       "    </tr>\n",
       "    <tr>\n",
       "      <th>4</th>\n",
       "      <td>0</td>\n",
       "      <td>1</td>\n",
       "      <td>0</td>\n",
       "      <td>1</td>\n",
       "      <td>0</td>\n",
       "      <td>0</td>\n",
       "      <td>1</td>\n",
       "      <td>0</td>\n",
       "      <td>0</td>\n",
       "      <td>1</td>\n",
       "      <td>0</td>\n",
       "      <td>0</td>\n",
       "      <td>1</td>\n",
       "      <td>0</td>\n",
       "      <td>0</td>\n",
       "      <td>1</td>\n",
       "      <td>-0.438680</td>\n",
       "      <td>1.362183</td>\n",
       "      <td>-0.703840</td>\n",
       "      <td>2.022445</td>\n",
       "    </tr>\n",
       "  </tbody>\n",
       "</table>\n",
       "</div>"
      ],
      "text/plain": [
       "   afternoon  evening  morning  ...  curvature  speed_limit  num_reported_accidents\n",
       "0          1        0        0  ...  -0.545632    -0.070467               -0.209797\n",
       "1          1        0        0  ...  -1.646295    -0.070467               -1.325918\n",
       "2          1        0        0  ...   0.371587    -0.703840               -0.209797\n",
       "3          1        0        0  ...   1.692382    -0.703840                0.906324\n",
       "4          0        1        0  ...   1.362183    -0.703840                2.022445\n",
       "\n",
       "[5 rows x 20 columns]"
      ]
     },
     "execution_count": 28,
     "metadata": {},
     "output_type": "execute_result"
    }
   ],
   "source": [
    "#\"\"\"\n",
    "for i in X_train.select_dtypes(include=np.number).columns.tolist():\n",
    "    X_train[i]=scaler.fit_transform(X_train[[i]])\n",
    "    test[i]=scaler.transform(test[[i]])\n",
    "\n",
    "test.head(5)\n",
    "#\"\"\""
   ]
  },
  {
   "cell_type": "markdown",
   "id": "950e33ad",
   "metadata": {},
   "source": [
    "## Prediction"
   ]
  },
  {
   "cell_type": "code",
   "execution_count": 3,
   "id": "2693f0b7",
   "metadata": {},
   "outputs": [
    {
     "ename": "NameError",
     "evalue": "name 'model' is not defined",
     "output_type": "error",
     "traceback": [
      "\u001b[1;31m---------------------------------------------------------------------------\u001b[0m",
      "\u001b[1;31mNameError\u001b[0m                                 Traceback (most recent call last)",
      "Cell \u001b[1;32mIn[3], line 1\u001b[0m\n\u001b[1;32m----> 1\u001b[0m prediction \u001b[38;5;241m=\u001b[39m \u001b[43mmodel\u001b[49m\u001b[38;5;241m.\u001b[39mpredict(test)\n\u001b[0;32m      3\u001b[0m prediction\n",
      "\u001b[1;31mNameError\u001b[0m: name 'model' is not defined"
     ]
    }
   ],
   "source": [
    "prediction = model.predict(test)\n",
    "\n",
    "prediction"
   ]
  },
  {
   "cell_type": "markdown",
   "id": "6ca88412",
   "metadata": {},
   "source": [
    "### Saving data"
   ]
  },
  {
   "cell_type": "code",
   "execution_count": null,
   "id": "11413e32",
   "metadata": {},
   "outputs": [
    {
     "name": "stdout",
     "output_type": "stream",
     "text": [
      "[0.29870437 0.14411606 0.21132488 ... 0.29482259 0.17147775 0.48316621]\n"
     ]
    },
    {
     "ename": "IndexError",
     "evalue": "invalid index to scalar variable.",
     "output_type": "error",
     "traceback": [
      "\u001b[31m---------------------------------------------------------------------------\u001b[39m",
      "\u001b[31mIndexError\u001b[39m                                Traceback (most recent call last)",
      "\u001b[36mCell\u001b[39m\u001b[36m \u001b[39m\u001b[32mIn[31]\u001b[39m\u001b[32m, line 5\u001b[39m\n\u001b[32m      3\u001b[39m pred = []\n\u001b[32m      4\u001b[39m \u001b[38;5;28;01mfor\u001b[39;00m i \u001b[38;5;129;01min\u001b[39;00m prediction:\n\u001b[32m----> \u001b[39m\u001b[32m5\u001b[39m     pred.append(\u001b[38;5;28mround\u001b[39m(\u001b[43mi\u001b[49m\u001b[43m[\u001b[49m\u001b[32;43m0\u001b[39;49m\u001b[43m]\u001b[49m, \u001b[32m3\u001b[39m))\n\u001b[32m      7\u001b[39m submission = pd.DataFrame({\n\u001b[32m      8\u001b[39m     \u001b[33m'\u001b[39m\u001b[33mid\u001b[39m\u001b[33m'\u001b[39m: \u001b[38;5;28mid\u001b[39m,\n\u001b[32m      9\u001b[39m     \u001b[33m'\u001b[39m\u001b[33maccident_risk\u001b[39m\u001b[33m'\u001b[39m: pred\n\u001b[32m     10\u001b[39m })\n\u001b[32m     12\u001b[39m submission.to_csv(filename, index=\u001b[38;5;28;01mFalse\u001b[39;00m)\n",
      "\u001b[31mIndexError\u001b[39m: invalid index to scalar variable."
     ]
    }
   ],
   "source": [
    "filename = output_folder + 'submission_KNN_LassoCV_R.csv'\n",
    "\n",
    "pred = []\n",
    "for i in prediction:\n",
    "    pred.append(round(i, 3))\n",
    "\n",
    "submission = pd.DataFrame({\n",
    "    'id': id,\n",
    "    'accident_risk': pred\n",
    "})\n",
    "\n",
    "submission.to_csv(filename, index=False)\n",
    "print(f\"Saved: {filename}\")"
   ]
  }
 ],
 "metadata": {
  "kernelspec": {
   "display_name": "Python 3",
   "language": "python",
   "name": "python3"
  },
  "language_info": {
   "codemirror_mode": {
    "name": "ipython",
    "version": 3
   },
   "file_extension": ".py",
   "mimetype": "text/x-python",
   "name": "python",
   "nbconvert_exporter": "python",
   "pygments_lexer": "ipython3",
   "version": "3.10.11"
  }
 },
 "nbformat": 4,
 "nbformat_minor": 5
}
